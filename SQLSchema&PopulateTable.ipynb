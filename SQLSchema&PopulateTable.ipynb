{
 "cells": [
  {
   "cell_type": "code",
   "execution_count": 1,
   "metadata": {
    "colab": {
     "base_uri": "https://localhost:8080/",
     "height": 51
    },
    "colab_type": "code",
    "executionInfo": {
     "elapsed": 416,
     "status": "ok",
     "timestamp": 1586286040253,
     "user": {
      "displayName": "Divya Thomas",
      "photoUrl": "",
      "userId": "03406556560689279233"
     },
     "user_tz": 420
    },
    "id": "dgdlYFhpPpUk",
    "outputId": "e2204223-9fa5-4d77-fc6f-2d12eed4cba4"
   },
   "outputs": [],
   "source": [
    "%load_ext sql"
   ]
  },
  {
   "cell_type": "code",
   "execution_count": 2,
   "metadata": {
    "colab": {
     "base_uri": "https://localhost:8080/",
     "height": 34
    },
    "colab_type": "code",
    "executionInfo": {
     "elapsed": 1137,
     "status": "ok",
     "timestamp": 1586286044760,
     "user": {
      "displayName": "Divya Thomas",
      "photoUrl": "",
      "userId": "03406556560689279233"
     },
     "user_tz": 420
    },
    "id": "N65_v8qFPpUp",
    "outputId": "60107a1d-622f-451a-9466-8d291fe5b817"
   },
   "outputs": [
    {
     "data": {
      "text/plain": [
       "'Connected: @library.db'"
      ]
     },
     "execution_count": 2,
     "metadata": {},
     "output_type": "execute_result"
    }
   ],
   "source": [
    "%sql sqlite:///library.db"
   ]
  },
  {
   "cell_type": "code",
   "execution_count": 3,
   "metadata": {
    "colab": {
     "base_uri": "https://localhost:8080/",
     "height": 68
    },
    "colab_type": "code",
    "executionInfo": {
     "elapsed": 422,
     "status": "ok",
     "timestamp": 1586286081114,
     "user": {
      "displayName": "Divya Thomas",
      "photoUrl": "",
      "userId": "03406556560689279233"
     },
     "user_tz": 420
    },
    "id": "fla1KaLYPpUt",
    "outputId": "e7f6ae84-5d0d-4ba5-ebb2-635f35216586"
   },
   "outputs": [
    {
     "name": "stdout",
     "output_type": "stream",
     "text": [
      " * sqlite:///library.db\n",
      "Done.\n"
     ]
    },
    {
     "data": {
      "text/plain": [
       "[]"
      ]
     },
     "execution_count": 3,
     "metadata": {},
     "output_type": "execute_result"
    }
   ],
   "source": [
    "%%sql\n",
    "PRAGMA foreign_keys=1;"
   ]
  },
  {
   "cell_type": "code",
   "execution_count": 4,
   "metadata": {
    "colab": {},
    "colab_type": "code",
    "id": "bdTRfpH8PpUx"
   },
   "outputs": [
    {
     "name": "stdout",
     "output_type": "stream",
     "text": [
      " * sqlite:///library.db\n",
      "Done.\n",
      "Done.\n",
      "Done.\n",
      "Done.\n",
      "Done.\n",
      "Done.\n",
      "Done.\n",
      "Done.\n",
      "Done.\n",
      "Done.\n",
      "Done.\n",
      "Done.\n",
      "Done.\n",
      "Done.\n",
      "Done.\n",
      "Done.\n",
      "Done.\n",
      "Done.\n",
      "Done.\n",
      "Done.\n",
      "Done.\n",
      "Done.\n",
      "Done.\n",
      "Done.\n"
     ]
    },
    {
     "data": {
      "text/plain": [
       "[]"
      ]
     },
     "execution_count": 4,
     "metadata": {},
     "output_type": "execute_result"
    }
   ],
   "source": [
    "%%sql\n",
    "\n",
    "CREATE TABLE Person(\n",
    "    person_id VARCHAR(255)  PRIMARY KEY,\n",
    "    first_name VARCHAR(255),\n",
    "    last_name VARCHAR(255),\n",
    "    address1 VARCHAR(255),\n",
    "    address2 VARCHAR(255),\n",
    "    city VARCHAR(255),\n",
    "    state CHAR(2),\n",
    "    zipCode CHAR(10),\n",
    "    phone VARCHAR(14) DEFAULT 'unlisted',\n",
    "    email VARCHAR(255) CHECK (email LIKE '%@%'),\n",
    "    gender CHAR(1) CHECK (gender IN ('F', 'M','O')) ,\n",
    "    member_type VARCHAR(255) DEFAULT 'Undergraduate', \n",
    "    mem_startdate DATE, \n",
    "    mem_enddate DATE, \n",
    "    allow_borrow INT CHECK (allow_borrow IN (1, 0))    \n",
    "    CHECK(address1 IS NOT NULL AND address1 <> address2)\n",
    ");\n",
    "\n",
    "CREATE TABLE Item(\n",
    "    item_id VARCHAR(255)  PRIMARY KEY,\n",
    "    title VARCHAR(255),\n",
    "    cat_name VARCHAR(50) DEFAULT 'Others',\n",
    "    pub_date DATE,\n",
    "    availability  INT CHECK (availability IN (1, 0)) ,\n",
    "    shelf_num VARCHAR(255) ,\n",
    "    borrow_date DATE ,\n",
    "    due_date DATE ,\n",
    "    return_date DATE ,\n",
    "    person_id VARCHAR(255)  REFERENCES Person\n",
    ");\n",
    " \n",
    "CREATE TABLE Books(\n",
    "    edition VARCHAR(10),\n",
    "    item_id VARCHAR(255)  PRIMARY KEY,\n",
    "    online INT CHECK (online IN (1, 0)) ,\n",
    "    FOREIGN KEY ('item_id') REFERENCES Item ('item_id') ON DELETE CASCADE ON UPDATE CASCADE\n",
    ");\n",
    "\n",
    " CREATE TABLE Personnel(\n",
    "    job_startdate DATE,\n",
    "    job_enddate DATE,\n",
    "    person_id VARCHAR(255)  PRIMARY KEY,\n",
    "    FOREIGN KEY ('person_id') REFERENCES Person ('person_id') ON DELETE RESTRICT ON UPDATE CASCADE\n",
    ");\n",
    "\n",
    "CREATE TABLE Periodicals(\n",
    "    volume VARCHAR(10),\n",
    "    issue INT,\n",
    "    item_id VARCHAR(255)  PRIMARY KEY,\n",
    "    online INT CHECK (online IN (1, 0)) ,\n",
    "    FOREIGN KEY ('item_id') REFERENCES Item ('item_id') ON DELETE CASCADE ON UPDATE CASCADE\n",
    ");\n",
    "\n",
    "CREATE TABLE Audiovisuals(\n",
    "    medium VARCHAR(255) DEFAULT 'CD',\n",
    "    item_id VARCHAR(255)  PRIMARY KEY,\n",
    "    FOREIGN KEY ('item_id') REFERENCES Item ('item_id') ON DELETE CASCADE ON UPDATE CASCADE\n",
    ");\n",
    "\n",
    "CREATE TABLE Artist(\n",
    "    artist_id VARCHAR(255) PRIMARY KEY,\n",
    "    artist_name VARCHAR(255)\n",
    "    );\n",
    "\n",
    "CREATE TABLE Author(\n",
    "    author_id VARCHAR(255) PRIMARY KEY,\n",
    "    first_name VARCHAR(255),\n",
    "    last_name VARCHAR(255)\n",
    "    );\n",
    "\n",
    "CREATE TABLE Publisher(\n",
    "    publisher_id VARCHAR(255) PRIMARY KEY,\n",
    "    publisher_name VARCHAR(255)\n",
    "    );\n",
    "\n",
    "CREATE TABLE Producer(\n",
    "    producer_id VARCHAR(255) PRIMARY KEY,\n",
    "    producer_name VARCHAR(255)\n",
    "    );\n",
    "\n",
    "CREATE TABLE Volunteer_options(\n",
    "    vol_name VARCHAR(255) PRIMARY KEY,\n",
    "    vol_type VARCHAR (255) DEFAULT 'Others',\n",
    "    activity_desc VARCHAR (255),\n",
    "    hours_week INT DEFAULT 10\n",
    "    \n",
    ");\n",
    "\n",
    "CREATE TABLE Help(\n",
    "    help_id INT PRIMARY KEY,\n",
    "    help_type VARCHAR (100) DEFAULT 'Others',\n",
    "    help_desc VARCHAR (255) ,\n",
    "    is_urgent INT CHECK (is_urgent IN (1, 0)) ,\n",
    "    person_id VARCHAR(255) REFERENCES Person\n",
    ");\n",
    "\n",
    "CREATE TABLE Event(\n",
    "    event_name VARCHAR (255) PRIMARY KEY,\n",
    "    event_type VARCHAR (255) DEFAULT 'Others', \n",
    "    event_desc VARCHAR (255), \n",
    "    date DATE ,\n",
    "    time TIME, \n",
    "    audience VARCHAR (100) DEFAULT 'Everyone',\n",
    "    has_food INT CHECK ( has_food IN (1, 0)) ,\n",
    "    room_number VARCHAR (255) REFERENCES Location\n",
    "\n",
    ");\n",
    "\n",
    "CREATE TABLE Location(\n",
    "    floor INT,\n",
    "    room_number VARCHAR (100) PRIMARY KEY\n",
    "\n",
    " );\n",
    "\n",
    "CREATE TABLE New_items(\n",
    "    new_id INT PRIMARY KEY, \n",
    "    new_title VARCHAR(255),\n",
    "    cat_name VARCHAR(50) DEFAULT 'Others',\n",
    "    person_id VARCHAR (255) REFERENCES Person('person_id'),\n",
    "    desc VARCHAR (255),\n",
    "    condition VARCHAR (50) DEFAULT 'Good'\n",
    ");\n",
    "\n",
    "\n",
    "CREATE TABLE Organizer(\n",
    "    organizer_name VARCHAR (255), \n",
    "    organizer_email VARCHAR (255) UNIQUE CHECK (organizer_email LIKE '%@%'),\n",
    "    PRIMARY KEY (organizer_email)\n",
    "     );\n",
    "\n",
    "CREATE TABLE Register(\n",
    "    event_name VARCHAR (255) NOT NULL,\n",
    "    person_id VARCHAR(255) NOT NULL,\n",
    "    PRIMARY KEY ( event_name, person_id),\n",
    "    FOREIGN KEY ( event_name) REFERENCES Event( event_name) ON DELETE CASCADE ON UPDATE CASCADE,\n",
    "    FOREIGN KEY (person_id) REFERENCES Person(person_id) ON DELETE CASCADE ON UPDATE CASCADE\n",
    "    );\n",
    "\n",
    "CREATE TABLE Volunteer(\n",
    "    vol_name VARCHAR (255) NOT NULL,\n",
    "    person_id VARCHAR(255) NOT NULL,\n",
    "    PRIMARY KEY (vol_name, person_id),\n",
    "    FOREIGN KEY (vol_name) REFERENCES Volunteer_options(vol_name) ON DELETE CASCADE ON UPDATE CASCADE,\n",
    "    FOREIGN KEY (person_id) REFERENCES Person(person_id) ON DELETE CASCADE ON UPDATE CASCADE\n",
    "    );\n",
    "\n",
    "CREATE TABLE Fines_on(\n",
    "    item_id VARCHAR (255) NOT NULL,\n",
    "    person_id VARCHAR(255) NOT NULL,\n",
    "    fine_date DATE NOT NULL,\n",
    "    fine_amount FLOAT, \n",
    "    fine_payed FLOAT DEFAULT 0,\n",
    "    PRIMARY KEY (person_id,item_id,fine_date),\n",
    "    FOREIGN KEY (item_id) REFERENCES Item(item_id) ON DELETE RESTRICT ON UPDATE CASCADE,\n",
    "    FOREIGN KEY (person_id) REFERENCES Person(person_id) ON DELETE RESTRICT ON UPDATE CASCADE\n",
    "    );\n",
    "\n",
    "CREATE TABLE items_of_author(\n",
    "    author_id VARCHAR (255) NOT NULL,\n",
    "    item_id VARCHAR(255) NOT NULL,\n",
    "    PRIMARY KEY (author_id,item_id),\n",
    "    FOREIGN KEY (item_id) REFERENCES Item(item_id) ON DELETE CASCADE ON UPDATE CASCADE,\n",
    "    FOREIGN KEY (author_id) REFERENCES Author(author_id) ON DELETE RESTRICT ON UPDATE CASCADE\n",
    "    );\n",
    "\n",
    "CREATE TABLE Items_of_Publisher(\n",
    "    publisher_id VARCHAR (255) NOT NULL,\n",
    "    item_id VARCHAR(255) NOT NULL,\n",
    "    PRIMARY KEY (publisher_id,item_id),\n",
    "    FOREIGN KEY (item_id) REFERENCES Item(item_id) ON DELETE CASCADE ON UPDATE CASCADE,\n",
    "    FOREIGN KEY (publisher_id) REFERENCES Publisher(publisher_id) ON DELETE RESTRICT ON UPDATE CASCADE\n",
    "    );\n",
    "\n",
    "CREATE TABLE Items_of_Producer(\n",
    "    producer_id VARCHAR (255) NOT NULL,\n",
    "    item_id VARCHAR(255) NOT NULL,\n",
    "    PRIMARY KEY (producer_id,item_id),\n",
    "    FOREIGN KEY (item_id) REFERENCES Item(item_id) ON DELETE CASCADE ON UPDATE CASCADE,\n",
    "    FOREIGN KEY (producer_id) REFERENCES Producer(producer_id) ON DELETE RESTRICT ON UPDATE CASCADE\n",
    "    );\n",
    "CREATE TABLE Items_of_Artist(\n",
    "    artist_id VARCHAR (255) NOT NULL,\n",
    "    item_id VARCHAR(255) NOT NULL,\n",
    "    PRIMARY KEY (artist_id,item_id),\n",
    "    FOREIGN KEY (item_id) REFERENCES Item(item_id) ON DELETE CASCADE ON UPDATE CASCADE,\n",
    "    FOREIGN KEY (artist_id) REFERENCES Artist(artist_id) ON DELETE RESTRICT ON UPDATE CASCADE\n",
    "    );\n",
    "\n",
    "CREATE TABLE Event_by_Organizer(\n",
    "    organizer_email VARCHAR (255) NOT NULL,\n",
    "    event_name VARCHAR(255) NOT NULL,\n",
    "    PRIMARY KEY (organizer_email,event_name),\n",
    "    FOREIGN KEY (organizer_email) REFERENCES Organizer(organizer_email) ON DELETE CASCADE ON UPDATE CASCADE,\n",
    "    FOREIGN KEY (event_name) REFERENCES Event(event_name) ON DELETE CASCADE ON UPDATE CASCADE\n",
    "    );\n",
    "\n"
   ]
  },
  {
   "cell_type": "code",
   "execution_count": 5,
   "metadata": {
    "colab": {
     "base_uri": "https://localhost:8080/",
     "height": 70
    },
    "colab_type": "code",
    "executionInfo": {
     "elapsed": 927,
     "status": "ok",
     "timestamp": 1586274251020,
     "user": {
      "displayName": "Maggie Xu",
      "photoUrl": "https://lh5.googleusercontent.com/-zJOrSEiKgYQ/AAAAAAAAAAI/AAAAAAAAAV8/DqAuQcf5CJQ/s64/photo.jpg",
      "userId": "04515744612811211407"
     },
     "user_tz": 420
    },
    "id": "LZXk78K0bsxY",
    "outputId": "6bd5d96e-b70c-445c-cfb5-c0b8e88d33ae"
   },
   "outputs": [
    {
     "name": "stdout",
     "output_type": "stream",
     "text": [
      " * sqlite:///library.db\n",
      "17 rows affected.\n"
     ]
    },
    {
     "data": {
      "text/plain": [
       "[]"
      ]
     },
     "execution_count": 5,
     "metadata": {},
     "output_type": "execute_result"
    }
   ],
   "source": [
    "%%sql\n",
    "\n",
    "INSERT INTO Person \n",
    "VALUES \n",
    "('1', 'Amy','Davis','3620 Peachtree St','#302','Richmond','CA','580025','762-331-1112','amydavis0312@gmail.com', 'F', 'Staff', '2003-01-02', '2023-01-02',0),\n",
    "('2', 'Murray','Boyd','1250 201th St','#123','Riverside','CA','523525','123-331-1112','murrayboyd0122@gmail.com', 'M', 'Faculty', '2003-05-02', '2022-01-02',0),\n",
    "('3', 'Mysha','Downs','326 Moon Ave','#806','Orange County','CA','532400','456-331-1112','myshadowns1222@gmail.com', 'F', 'Staff', '2005-05-02', '2025-01-02',1),\n",
    "('4', 'Menaal','Leech','1852 Manson Dr','#703','Surrey','WA','463230','456-567-1112','menaalleech0329@icloud.com', 'F', 'Graduate', '2007-05-02', '2021-01-26',0),\n",
    "('5', 'Dalton','Kirby','6520 Arcadia Rd','#1209','Lanley','WA','436520','456-331-6682','daltonkirby0905@gmail.com', 'M', 'Undergraduate', '2012-05-02', '2023-12-02',1),\n",
    "('6', 'Dorian','Lester','3526 27th Ave','#195','Riverside','CA','535625','165-331-1112','dorianlester0122@gmail.com', 'F', 'Staff', '2003-05-02', '2022-01-02',0),\n",
    "('7', 'Anwar','Bourne','250 Booker St','#806','Orange County','CA','532400','456-387-1112','anwarbourne1212@gmail.com', 'M', 'Graduate', '2005-05-02', '2025-01-02',1),\n",
    "('8', 'Johanna','Lee','3652 85 Ave','#703','Surrey','WA','463230','856-567-1156','johannalee0316@icloud.com', 'F', 'Faculty', '2007-05-02', '2021-01-26',0),\n",
    "('9', 'Spencer','Mai','6520 Bullock Rd','#327','Lanley','WA','65493','453-351-2182','spencermai1005@gmail.com', 'M', 'Faculty', '2012-05-02', '2023-12-02',1),\n",
    "('11', 'Dannielle','Pope','6520 Griff Rd','#936','Maple Ridge','WA','79941','852-361-6682','dannielle0906@gmail.com', 'F', 'Staff', '2012-05-02', '2023-12-02',1),\n",
    "('12', 'Renee','Zhong','6520 Stevenson St','#306','Lanley','BC','56716','376-331-6682','reneezhong0813@gmail.com', 'F', 'Staff', '2012-05-02', '2023-12-02',1),\n",
    "('13', 'Roxanne','Cantu','6520 ridge Dr','#2101','Pitt Meadow','WA','236466','256-645-6682','roxannecantu0105@gmail.com', 'M', 'Staff', '2012-05-02', '2023-12-02',1),\n",
    "('14', 'Renee','Fleming','79 ','Robson St','Vancouver','BC','V6B 3K9','604-602-3324','t4k3cl094@fakeuniv.ca', 'F', 'Staff', '2012-05-02', '2022-12-02',1),\n",
    "('15', 'Amparo','Sharpe','1912','1912  Keith Road','North Vancouver','BC','V5T 2C1','604-988-9491','1z8y8e5vg9fh@fakeuniv.ca', 'F', 'Staff', '2012-06-02', '2022-07-02',1),\n",
    "('16', 'Rebecca','Foy','3084 ','Carter Crescent','North River','NS','B2N 5B5','902-986-0286','gogs7yhhmja@fakeuniv.ca', 'F', 'Staff', '2017-05-02', '2024-12-02',1),\n",
    "('17', 'Ronald','Diaz','4878','Main St','Bjorkdale','SK','S0E 0E0','306-886-4497','6vivvo3jyu3@fakeuniv.ca', 'M', 'Staff', '2014-05-02', '2025-12-01',1),\n",
    "('18', 'Thomas','Moore','944','944  Sturgeon Drive','Peace River','AB','T8S 1V9','780-596-4631','7f11zii1r3@fakeuniv.ca', 'M', 'Staff', '2014-05-02', '2025-12-01',1);"
   ]
  },
  {
   "cell_type": "code",
   "execution_count": 6,
   "metadata": {},
   "outputs": [
    {
     "name": "stdout",
     "output_type": "stream",
     "text": [
      " * sqlite:///library.db\n",
      "Done.\n"
     ]
    },
    {
     "data": {
      "text/html": [
       "<table>\n",
       "    <tr>\n",
       "        <th>person_id</th>\n",
       "        <th>first_name</th>\n",
       "        <th>last_name</th>\n",
       "        <th>address1</th>\n",
       "        <th>address2</th>\n",
       "        <th>city</th>\n",
       "        <th>state</th>\n",
       "        <th>zipCode</th>\n",
       "        <th>phone</th>\n",
       "        <th>email</th>\n",
       "        <th>gender</th>\n",
       "        <th>member_type</th>\n",
       "        <th>mem_startdate</th>\n",
       "        <th>mem_enddate</th>\n",
       "        <th>allow_borrow</th>\n",
       "    </tr>\n",
       "    <tr>\n",
       "        <td>1</td>\n",
       "        <td>Amy</td>\n",
       "        <td>Davis</td>\n",
       "        <td>3620 Peachtree St</td>\n",
       "        <td>#302</td>\n",
       "        <td>Richmond</td>\n",
       "        <td>CA</td>\n",
       "        <td>580025</td>\n",
       "        <td>762-331-1112</td>\n",
       "        <td>amydavis0312@gmail.com</td>\n",
       "        <td>F</td>\n",
       "        <td>Staff</td>\n",
       "        <td>2003-01-02</td>\n",
       "        <td>2023-01-02</td>\n",
       "        <td>0</td>\n",
       "    </tr>\n",
       "    <tr>\n",
       "        <td>2</td>\n",
       "        <td>Murray</td>\n",
       "        <td>Boyd</td>\n",
       "        <td>1250 201th St</td>\n",
       "        <td>#123</td>\n",
       "        <td>Riverside</td>\n",
       "        <td>CA</td>\n",
       "        <td>523525</td>\n",
       "        <td>123-331-1112</td>\n",
       "        <td>murrayboyd0122@gmail.com</td>\n",
       "        <td>M</td>\n",
       "        <td>Faculty</td>\n",
       "        <td>2003-05-02</td>\n",
       "        <td>2022-01-02</td>\n",
       "        <td>0</td>\n",
       "    </tr>\n",
       "    <tr>\n",
       "        <td>3</td>\n",
       "        <td>Mysha</td>\n",
       "        <td>Downs</td>\n",
       "        <td>326 Moon Ave</td>\n",
       "        <td>#806</td>\n",
       "        <td>Orange County</td>\n",
       "        <td>CA</td>\n",
       "        <td>532400</td>\n",
       "        <td>456-331-1112</td>\n",
       "        <td>myshadowns1222@gmail.com</td>\n",
       "        <td>F</td>\n",
       "        <td>Staff</td>\n",
       "        <td>2005-05-02</td>\n",
       "        <td>2025-01-02</td>\n",
       "        <td>1</td>\n",
       "    </tr>\n",
       "    <tr>\n",
       "        <td>4</td>\n",
       "        <td>Menaal</td>\n",
       "        <td>Leech</td>\n",
       "        <td>1852 Manson Dr</td>\n",
       "        <td>#703</td>\n",
       "        <td>Surrey</td>\n",
       "        <td>WA</td>\n",
       "        <td>463230</td>\n",
       "        <td>456-567-1112</td>\n",
       "        <td>menaalleech0329@icloud.com</td>\n",
       "        <td>F</td>\n",
       "        <td>Graduate</td>\n",
       "        <td>2007-05-02</td>\n",
       "        <td>2021-01-26</td>\n",
       "        <td>0</td>\n",
       "    </tr>\n",
       "    <tr>\n",
       "        <td>5</td>\n",
       "        <td>Dalton</td>\n",
       "        <td>Kirby</td>\n",
       "        <td>6520 Arcadia Rd</td>\n",
       "        <td>#1209</td>\n",
       "        <td>Lanley</td>\n",
       "        <td>WA</td>\n",
       "        <td>436520</td>\n",
       "        <td>456-331-6682</td>\n",
       "        <td>daltonkirby0905@gmail.com</td>\n",
       "        <td>M</td>\n",
       "        <td>Undergraduate</td>\n",
       "        <td>2012-05-02</td>\n",
       "        <td>2023-12-02</td>\n",
       "        <td>1</td>\n",
       "    </tr>\n",
       "    <tr>\n",
       "        <td>6</td>\n",
       "        <td>Dorian</td>\n",
       "        <td>Lester</td>\n",
       "        <td>3526 27th Ave</td>\n",
       "        <td>#195</td>\n",
       "        <td>Riverside</td>\n",
       "        <td>CA</td>\n",
       "        <td>535625</td>\n",
       "        <td>165-331-1112</td>\n",
       "        <td>dorianlester0122@gmail.com</td>\n",
       "        <td>F</td>\n",
       "        <td>Staff</td>\n",
       "        <td>2003-05-02</td>\n",
       "        <td>2022-01-02</td>\n",
       "        <td>0</td>\n",
       "    </tr>\n",
       "    <tr>\n",
       "        <td>7</td>\n",
       "        <td>Anwar</td>\n",
       "        <td>Bourne</td>\n",
       "        <td>250 Booker St</td>\n",
       "        <td>#806</td>\n",
       "        <td>Orange County</td>\n",
       "        <td>CA</td>\n",
       "        <td>532400</td>\n",
       "        <td>456-387-1112</td>\n",
       "        <td>anwarbourne1212@gmail.com</td>\n",
       "        <td>M</td>\n",
       "        <td>Graduate</td>\n",
       "        <td>2005-05-02</td>\n",
       "        <td>2025-01-02</td>\n",
       "        <td>1</td>\n",
       "    </tr>\n",
       "    <tr>\n",
       "        <td>8</td>\n",
       "        <td>Johanna</td>\n",
       "        <td>Lee</td>\n",
       "        <td>3652 85 Ave</td>\n",
       "        <td>#703</td>\n",
       "        <td>Surrey</td>\n",
       "        <td>WA</td>\n",
       "        <td>463230</td>\n",
       "        <td>856-567-1156</td>\n",
       "        <td>johannalee0316@icloud.com</td>\n",
       "        <td>F</td>\n",
       "        <td>Faculty</td>\n",
       "        <td>2007-05-02</td>\n",
       "        <td>2021-01-26</td>\n",
       "        <td>0</td>\n",
       "    </tr>\n",
       "    <tr>\n",
       "        <td>9</td>\n",
       "        <td>Spencer</td>\n",
       "        <td>Mai</td>\n",
       "        <td>6520 Bullock Rd</td>\n",
       "        <td>#327</td>\n",
       "        <td>Lanley</td>\n",
       "        <td>WA</td>\n",
       "        <td>65493</td>\n",
       "        <td>453-351-2182</td>\n",
       "        <td>spencermai1005@gmail.com</td>\n",
       "        <td>M</td>\n",
       "        <td>Faculty</td>\n",
       "        <td>2012-05-02</td>\n",
       "        <td>2023-12-02</td>\n",
       "        <td>1</td>\n",
       "    </tr>\n",
       "    <tr>\n",
       "        <td>11</td>\n",
       "        <td>Dannielle</td>\n",
       "        <td>Pope</td>\n",
       "        <td>6520 Griff Rd</td>\n",
       "        <td>#936</td>\n",
       "        <td>Maple Ridge</td>\n",
       "        <td>WA</td>\n",
       "        <td>79941</td>\n",
       "        <td>852-361-6682</td>\n",
       "        <td>dannielle0906@gmail.com</td>\n",
       "        <td>F</td>\n",
       "        <td>Staff</td>\n",
       "        <td>2012-05-02</td>\n",
       "        <td>2023-12-02</td>\n",
       "        <td>1</td>\n",
       "    </tr>\n",
       "    <tr>\n",
       "        <td>12</td>\n",
       "        <td>Renee</td>\n",
       "        <td>Zhong</td>\n",
       "        <td>6520 Stevenson St</td>\n",
       "        <td>#306</td>\n",
       "        <td>Lanley</td>\n",
       "        <td>BC</td>\n",
       "        <td>56716</td>\n",
       "        <td>376-331-6682</td>\n",
       "        <td>reneezhong0813@gmail.com</td>\n",
       "        <td>F</td>\n",
       "        <td>Staff</td>\n",
       "        <td>2012-05-02</td>\n",
       "        <td>2023-12-02</td>\n",
       "        <td>1</td>\n",
       "    </tr>\n",
       "    <tr>\n",
       "        <td>13</td>\n",
       "        <td>Roxanne</td>\n",
       "        <td>Cantu</td>\n",
       "        <td>6520 ridge Dr</td>\n",
       "        <td>#2101</td>\n",
       "        <td>Pitt Meadow</td>\n",
       "        <td>WA</td>\n",
       "        <td>236466</td>\n",
       "        <td>256-645-6682</td>\n",
       "        <td>roxannecantu0105@gmail.com</td>\n",
       "        <td>M</td>\n",
       "        <td>Staff</td>\n",
       "        <td>2012-05-02</td>\n",
       "        <td>2023-12-02</td>\n",
       "        <td>1</td>\n",
       "    </tr>\n",
       "    <tr>\n",
       "        <td>14</td>\n",
       "        <td>Renee</td>\n",
       "        <td>Fleming</td>\n",
       "        <td>79 </td>\n",
       "        <td>Robson St</td>\n",
       "        <td>Vancouver</td>\n",
       "        <td>BC</td>\n",
       "        <td>V6B 3K9</td>\n",
       "        <td>604-602-3324</td>\n",
       "        <td>t4k3cl094@fakeuniv.ca</td>\n",
       "        <td>F</td>\n",
       "        <td>Staff</td>\n",
       "        <td>2012-05-02</td>\n",
       "        <td>2022-12-02</td>\n",
       "        <td>1</td>\n",
       "    </tr>\n",
       "    <tr>\n",
       "        <td>15</td>\n",
       "        <td>Amparo</td>\n",
       "        <td>Sharpe</td>\n",
       "        <td>1912</td>\n",
       "        <td>1912  Keith Road</td>\n",
       "        <td>North Vancouver</td>\n",
       "        <td>BC</td>\n",
       "        <td>V5T 2C1</td>\n",
       "        <td>604-988-9491</td>\n",
       "        <td>1z8y8e5vg9fh@fakeuniv.ca</td>\n",
       "        <td>F</td>\n",
       "        <td>Staff</td>\n",
       "        <td>2012-06-02</td>\n",
       "        <td>2022-07-02</td>\n",
       "        <td>1</td>\n",
       "    </tr>\n",
       "    <tr>\n",
       "        <td>16</td>\n",
       "        <td>Rebecca</td>\n",
       "        <td>Foy</td>\n",
       "        <td>3084 </td>\n",
       "        <td>Carter Crescent</td>\n",
       "        <td>North River</td>\n",
       "        <td>NS</td>\n",
       "        <td>B2N 5B5</td>\n",
       "        <td>902-986-0286</td>\n",
       "        <td>gogs7yhhmja@fakeuniv.ca</td>\n",
       "        <td>F</td>\n",
       "        <td>Staff</td>\n",
       "        <td>2017-05-02</td>\n",
       "        <td>2024-12-02</td>\n",
       "        <td>1</td>\n",
       "    </tr>\n",
       "    <tr>\n",
       "        <td>17</td>\n",
       "        <td>Ronald</td>\n",
       "        <td>Diaz</td>\n",
       "        <td>4878</td>\n",
       "        <td>Main St</td>\n",
       "        <td>Bjorkdale</td>\n",
       "        <td>SK</td>\n",
       "        <td>S0E 0E0</td>\n",
       "        <td>306-886-4497</td>\n",
       "        <td>6vivvo3jyu3@fakeuniv.ca</td>\n",
       "        <td>M</td>\n",
       "        <td>Staff</td>\n",
       "        <td>2014-05-02</td>\n",
       "        <td>2025-12-01</td>\n",
       "        <td>1</td>\n",
       "    </tr>\n",
       "    <tr>\n",
       "        <td>18</td>\n",
       "        <td>Thomas</td>\n",
       "        <td>Moore</td>\n",
       "        <td>944</td>\n",
       "        <td>944  Sturgeon Drive</td>\n",
       "        <td>Peace River</td>\n",
       "        <td>AB</td>\n",
       "        <td>T8S 1V9</td>\n",
       "        <td>780-596-4631</td>\n",
       "        <td>7f11zii1r3@fakeuniv.ca</td>\n",
       "        <td>M</td>\n",
       "        <td>Staff</td>\n",
       "        <td>2014-05-02</td>\n",
       "        <td>2025-12-01</td>\n",
       "        <td>1</td>\n",
       "    </tr>\n",
       "</table>"
      ],
      "text/plain": [
       "[('1', 'Amy', 'Davis', '3620 Peachtree St', '#302', 'Richmond', 'CA', '580025', '762-331-1112', 'amydavis0312@gmail.com', 'F', 'Staff', '2003-01-02', '2023-01-02', 0),\n",
       " ('2', 'Murray', 'Boyd', '1250 201th St', '#123', 'Riverside', 'CA', '523525', '123-331-1112', 'murrayboyd0122@gmail.com', 'M', 'Faculty', '2003-05-02', '2022-01-02', 0),\n",
       " ('3', 'Mysha', 'Downs', '326 Moon Ave', '#806', 'Orange County', 'CA', '532400', '456-331-1112', 'myshadowns1222@gmail.com', 'F', 'Staff', '2005-05-02', '2025-01-02', 1),\n",
       " ('4', 'Menaal', 'Leech', '1852 Manson Dr', '#703', 'Surrey', 'WA', '463230', '456-567-1112', 'menaalleech0329@icloud.com', 'F', 'Graduate', '2007-05-02', '2021-01-26', 0),\n",
       " ('5', 'Dalton', 'Kirby', '6520 Arcadia Rd', '#1209', 'Lanley', 'WA', '436520', '456-331-6682', 'daltonkirby0905@gmail.com', 'M', 'Undergraduate', '2012-05-02', '2023-12-02', 1),\n",
       " ('6', 'Dorian', 'Lester', '3526 27th Ave', '#195', 'Riverside', 'CA', '535625', '165-331-1112', 'dorianlester0122@gmail.com', 'F', 'Staff', '2003-05-02', '2022-01-02', 0),\n",
       " ('7', 'Anwar', 'Bourne', '250 Booker St', '#806', 'Orange County', 'CA', '532400', '456-387-1112', 'anwarbourne1212@gmail.com', 'M', 'Graduate', '2005-05-02', '2025-01-02', 1),\n",
       " ('8', 'Johanna', 'Lee', '3652 85 Ave', '#703', 'Surrey', 'WA', '463230', '856-567-1156', 'johannalee0316@icloud.com', 'F', 'Faculty', '2007-05-02', '2021-01-26', 0),\n",
       " ('9', 'Spencer', 'Mai', '6520 Bullock Rd', '#327', 'Lanley', 'WA', '65493', '453-351-2182', 'spencermai1005@gmail.com', 'M', 'Faculty', '2012-05-02', '2023-12-02', 1),\n",
       " ('11', 'Dannielle', 'Pope', '6520 Griff Rd', '#936', 'Maple Ridge', 'WA', '79941', '852-361-6682', 'dannielle0906@gmail.com', 'F', 'Staff', '2012-05-02', '2023-12-02', 1),\n",
       " ('12', 'Renee', 'Zhong', '6520 Stevenson St', '#306', 'Lanley', 'BC', '56716', '376-331-6682', 'reneezhong0813@gmail.com', 'F', 'Staff', '2012-05-02', '2023-12-02', 1),\n",
       " ('13', 'Roxanne', 'Cantu', '6520 ridge Dr', '#2101', 'Pitt Meadow', 'WA', '236466', '256-645-6682', 'roxannecantu0105@gmail.com', 'M', 'Staff', '2012-05-02', '2023-12-02', 1),\n",
       " ('14', 'Renee', 'Fleming', '79 ', 'Robson St', 'Vancouver', 'BC', 'V6B 3K9', '604-602-3324', 't4k3cl094@fakeuniv.ca', 'F', 'Staff', '2012-05-02', '2022-12-02', 1),\n",
       " ('15', 'Amparo', 'Sharpe', '1912', '1912  Keith Road', 'North Vancouver', 'BC', 'V5T 2C1', '604-988-9491', '1z8y8e5vg9fh@fakeuniv.ca', 'F', 'Staff', '2012-06-02', '2022-07-02', 1),\n",
       " ('16', 'Rebecca', 'Foy', '3084 ', 'Carter Crescent', 'North River', 'NS', 'B2N 5B5', '902-986-0286', 'gogs7yhhmja@fakeuniv.ca', 'F', 'Staff', '2017-05-02', '2024-12-02', 1),\n",
       " ('17', 'Ronald', 'Diaz', '4878', 'Main St', 'Bjorkdale', 'SK', 'S0E 0E0', '306-886-4497', '6vivvo3jyu3@fakeuniv.ca', 'M', 'Staff', '2014-05-02', '2025-12-01', 1),\n",
       " ('18', 'Thomas', 'Moore', '944', '944  Sturgeon Drive', 'Peace River', 'AB', 'T8S 1V9', '780-596-4631', '7f11zii1r3@fakeuniv.ca', 'M', 'Staff', '2014-05-02', '2025-12-01', 1)]"
      ]
     },
     "execution_count": 6,
     "metadata": {},
     "output_type": "execute_result"
    }
   ],
   "source": [
    "%%sql \n",
    "\n",
    "SELECT * FROM Person;"
   ]
  },
  {
   "cell_type": "code",
   "execution_count": 7,
   "metadata": {},
   "outputs": [
    {
     "name": "stdout",
     "output_type": "stream",
     "text": [
      " * sqlite:///library.db\n",
      "10 rows affected.\n"
     ]
    },
    {
     "data": {
      "text/plain": [
       "[]"
      ]
     },
     "execution_count": 7,
     "metadata": {},
     "output_type": "execute_result"
    }
   ],
   "source": [
    "%%sql\n",
    "\n",
    "INSERT INTO  Personnel\n",
    "VALUES('2009-05-02','2029-05-02','1'),\n",
    "('2003-01-12', '2023-01-12','11'),\n",
    "('2004-07-24', '2014-07-24','3'),\n",
    "('2005-03-28', '2020-03-28','6'),\n",
    "('2007-06-16', '2017-06-16','12'),\n",
    "('2006-05-13', '2022-05-13','13'),\n",
    "('2013-01-04', '2023-01-04','14'),\n",
    "('2009-12-09', '2019-12-09','15'),\n",
    "('2010-09-07', '2021-09-07','16'),\n",
    "('2011-11-24', '2021-11-24','17');\n"
   ]
  },
  {
   "cell_type": "code",
   "execution_count": 8,
   "metadata": {},
   "outputs": [
    {
     "name": "stdout",
     "output_type": "stream",
     "text": [
      " * sqlite:///library.db\n",
      "Done.\n"
     ]
    },
    {
     "data": {
      "text/html": [
       "<table>\n",
       "    <tr>\n",
       "        <th>job_startdate</th>\n",
       "        <th>job_enddate</th>\n",
       "        <th>person_id</th>\n",
       "    </tr>\n",
       "    <tr>\n",
       "        <td>2009-05-02</td>\n",
       "        <td>2029-05-02</td>\n",
       "        <td>1</td>\n",
       "    </tr>\n",
       "    <tr>\n",
       "        <td>2003-01-12</td>\n",
       "        <td>2023-01-12</td>\n",
       "        <td>11</td>\n",
       "    </tr>\n",
       "    <tr>\n",
       "        <td>2004-07-24</td>\n",
       "        <td>2014-07-24</td>\n",
       "        <td>3</td>\n",
       "    </tr>\n",
       "    <tr>\n",
       "        <td>2005-03-28</td>\n",
       "        <td>2020-03-28</td>\n",
       "        <td>6</td>\n",
       "    </tr>\n",
       "    <tr>\n",
       "        <td>2007-06-16</td>\n",
       "        <td>2017-06-16</td>\n",
       "        <td>12</td>\n",
       "    </tr>\n",
       "    <tr>\n",
       "        <td>2006-05-13</td>\n",
       "        <td>2022-05-13</td>\n",
       "        <td>13</td>\n",
       "    </tr>\n",
       "    <tr>\n",
       "        <td>2013-01-04</td>\n",
       "        <td>2023-01-04</td>\n",
       "        <td>14</td>\n",
       "    </tr>\n",
       "    <tr>\n",
       "        <td>2009-12-09</td>\n",
       "        <td>2019-12-09</td>\n",
       "        <td>15</td>\n",
       "    </tr>\n",
       "    <tr>\n",
       "        <td>2010-09-07</td>\n",
       "        <td>2021-09-07</td>\n",
       "        <td>16</td>\n",
       "    </tr>\n",
       "    <tr>\n",
       "        <td>2011-11-24</td>\n",
       "        <td>2021-11-24</td>\n",
       "        <td>17</td>\n",
       "    </tr>\n",
       "</table>"
      ],
      "text/plain": [
       "[('2009-05-02', '2029-05-02', '1'),\n",
       " ('2003-01-12', '2023-01-12', '11'),\n",
       " ('2004-07-24', '2014-07-24', '3'),\n",
       " ('2005-03-28', '2020-03-28', '6'),\n",
       " ('2007-06-16', '2017-06-16', '12'),\n",
       " ('2006-05-13', '2022-05-13', '13'),\n",
       " ('2013-01-04', '2023-01-04', '14'),\n",
       " ('2009-12-09', '2019-12-09', '15'),\n",
       " ('2010-09-07', '2021-09-07', '16'),\n",
       " ('2011-11-24', '2021-11-24', '17')]"
      ]
     },
     "execution_count": 8,
     "metadata": {},
     "output_type": "execute_result"
    }
   ],
   "source": [
    "%%sql \n",
    "\n",
    "SELECT * FROM Personnel;"
   ]
  },
  {
   "cell_type": "code",
   "execution_count": 9,
   "metadata": {
    "colab": {
     "base_uri": "https://localhost:8080/",
     "height": 70
    },
    "colab_type": "code",
    "executionInfo": {
     "elapsed": 918,
     "status": "ok",
     "timestamp": 1586274251021,
     "user": {
      "displayName": "Maggie Xu",
      "photoUrl": "https://lh5.googleusercontent.com/-zJOrSEiKgYQ/AAAAAAAAAAI/AAAAAAAAAV8/DqAuQcf5CJQ/s64/photo.jpg",
      "userId": "04515744612811211407"
     },
     "user_tz": 420
    },
    "id": "D04TEO9FhTJe",
    "outputId": "245b662d-a5ee-4851-9c82-2aee04cf4d3e"
   },
   "outputs": [
    {
     "name": "stdout",
     "output_type": "stream",
     "text": [
      " * sqlite:///library.db\n",
      "30 rows affected.\n"
     ]
    },
    {
     "data": {
      "text/plain": [
       "[]"
      ]
     },
     "execution_count": 9,
     "metadata": {},
     "output_type": "execute_result"
    }
   ],
   "source": [
    "%%sql\n",
    "INSERT INTO Item\n",
    "VALUES\n",
    "('B1', 'Introduction to Algorithm','Books-non fiction', '2009-05-02', 1, 'NF1', '2020-02-01', '2020-04-02', '2020-03-28', '5'),\n",
    "('B2', 'Frankenstein','Books-fiction', '2012-09-12', 1, 'F1', '2020-02-01', '2020-05-02', NULL,'1'),\n",
    "('B3', 'Nevermind', 'Books-fiction','1991-09-04', 1, 'F3', '2020-01-01', '2020-03-02', '2020-03-01',  '4'),\n",
    "('B4', 'Big Little Lies','Books-fiction', '2014-07-09', 1, 'F3', '2020-04-01', '2020-06-02', NULL, '3'),\n",
    "('B5', 'Database Design','Books-non fiction',  '2009-05-02', 1, 'NF1', '2020-02-01', '2020-04-02', '2020-03-28','7'),\n",
    "('B6', 'An Adventure City 1', 'Books-fiction','2012-09-12', 0, 'F5', '2020-03-01', '2020-05-02', NULL, '11'),\n",
    "('B7', 'The Amazing World of Science Part-1', 'Books-non fiction', '1991-09-04', 1, 'NF1', '2020-01-01', '2020-03-02', '2020-03-01',  '8'),\n",
    "('B8', 'The Great Gatsby', 'Books-fiction','2014-07-09', 1, 'F7', '2020-04-01', '2020-06-02', NULL,  '9'),\n",
    "('B9', 'An Adventure City 2','Books-fiction', '2009-05-02', 1, 'F1', '2020-02-01', '2020-04-02', '2020-03-28', '11'),\n",
    "('B11', 'An Adventure City 3', 'Books-fiction','2012-09-12', 0, 'F4', '2020-03-01', '2020-05-02', NULL,  '12'),\n",
    "('P1', 'Fashion Focus', 'Magazine','2017-09-12', 1, 'PM4', '2019-03-01', '2019-05-02', '2019-05-02',  '11'),\n",
    "('P2', 'City Scoop', 'Magazine','2020-01-05', 1, 'PM2', '2020-03-01', '2020-05-01', NULL,  '7'),\n",
    "('P3', 'Vogue', 'Magazine','2019-09-12', 1, 'PM4', '2020-03-02', '2020-03-02', NULL,  '2'),\n",
    "('P4', 'Soul Talk', 'Magazine','2019-09-11', 0, 'PM6', '2020-01-01', '2020-03-01', '2020-03-01',  '1'),\n",
    "('P5', 'Disculture', 'Magazine','2015-09-11', 1, 'PM4', '2019-03-01', '2019-05-01', '2019-05-01',  '11'),\n",
    "('P6', 'Journal of Applied Physics', 'Journal','2009-09-12', 0, 'PJ1', '2010-03-01', '2010-06-01', '2010-06-01',  '18'),\n",
    "('P7', 'Journal of Electrical Engineering', 'Journal','2008-09-12', 1, 'PJ4', '2011-03-01', '2011-05-01', '2011-05-01',  '15'),\n",
    "('P8', 'Nature', 'Journal','2019-08-12', 0, 'PJ7', '2020-03-01', '2020-05-01', NULL,  '13'),\n",
    "('P9', 'Journal of water management', 'Journal','2012-05-12', 1, 'PJ2', '2018-03-01', '2018-05-01', '2018-05-01',  '6'),\n",
    "('P11', 'Journal of Mathematics', 'Journal','2013-01-12', 1, 'PJ4', '2015-03-01', '2015-05-01', '2015-05-01',  '5'),\n",
    "('A1', 'Tongue and cheeks', 'Movie','2017-09-12', 1, 'M4', '2019-03-01', '2019-05-02', '2019-05-02',  '11'),\n",
    "('A2', 'Beasts of beauty', 'Movie','2020-01-05', 1, 'M2', '2020-03-01', '2020-05-01', NULL,  '7'),\n",
    "('A3', 'Bankrupcy', 'Movie','2019-09-12', 1, 'M4', '2020-03-02', '2020-03-02', NULL,  '2'),\n",
    "('A4', 'Death dead', 'Movie','2019-09-11', 0, 'M6', '2020-01-01', '2020-03-01', '2020-03-01',  '1'),\n",
    "('A5', 'Cloud nine', 'Movie','2015-09-11', 1, 'M4', '2019-03-01', '2019-05-01', '2019-05-01',  '11'),\n",
    "('A6', 'Bold fortune', 'Music','2009-09-12', 0, 'MU1', '2010-03-01', '2010-06-01', '2010-06-01',  '18'),\n",
    "('A7', 'So far so great', 'Music','2008-09-12', 1, 'MU4', '2011-03-01', '2011-05-01', '2011-05-01',  '15'),\n",
    "('A8', 'Honesty', 'Music','2019-08-12', 0, 'MU7', '2020-03-01', '2020-05-01', NULL,  '13'),\n",
    "('A9', 'Battleborn', 'Music','2012-05-12', 1, 'MU2', '2018-03-01', '2018-05-01', '2018-05-01',  '6'),\n",
    "('A11', 'Parliment of fools', 'Music','2013-01-12', 1, 'MU4', '2015-03-01', '2015-05-01', '2015-05-01','5');\n",
    "\n",
    "\n",
    "\n",
    "\n"
   ]
  },
  {
   "cell_type": "code",
   "execution_count": 10,
   "metadata": {},
   "outputs": [
    {
     "name": "stdout",
     "output_type": "stream",
     "text": [
      " * sqlite:///library.db\n",
      "Done.\n"
     ]
    },
    {
     "data": {
      "text/html": [
       "<table>\n",
       "    <tr>\n",
       "        <th>item_id</th>\n",
       "        <th>title</th>\n",
       "        <th>cat_name</th>\n",
       "        <th>pub_date</th>\n",
       "        <th>availability</th>\n",
       "        <th>shelf_num</th>\n",
       "        <th>borrow_date</th>\n",
       "        <th>due_date</th>\n",
       "        <th>return_date</th>\n",
       "        <th>person_id</th>\n",
       "    </tr>\n",
       "    <tr>\n",
       "        <td>B1</td>\n",
       "        <td>Introduction to Algorithm</td>\n",
       "        <td>Books-non fiction</td>\n",
       "        <td>2009-05-02</td>\n",
       "        <td>1</td>\n",
       "        <td>NF1</td>\n",
       "        <td>2020-02-01</td>\n",
       "        <td>2020-04-02</td>\n",
       "        <td>2020-03-28</td>\n",
       "        <td>5</td>\n",
       "    </tr>\n",
       "    <tr>\n",
       "        <td>B2</td>\n",
       "        <td>Frankenstein</td>\n",
       "        <td>Books-fiction</td>\n",
       "        <td>2012-09-12</td>\n",
       "        <td>1</td>\n",
       "        <td>F1</td>\n",
       "        <td>2020-02-01</td>\n",
       "        <td>2020-05-02</td>\n",
       "        <td>None</td>\n",
       "        <td>1</td>\n",
       "    </tr>\n",
       "    <tr>\n",
       "        <td>B3</td>\n",
       "        <td>Nevermind</td>\n",
       "        <td>Books-fiction</td>\n",
       "        <td>1991-09-04</td>\n",
       "        <td>1</td>\n",
       "        <td>F3</td>\n",
       "        <td>2020-01-01</td>\n",
       "        <td>2020-03-02</td>\n",
       "        <td>2020-03-01</td>\n",
       "        <td>4</td>\n",
       "    </tr>\n",
       "    <tr>\n",
       "        <td>B4</td>\n",
       "        <td>Big Little Lies</td>\n",
       "        <td>Books-fiction</td>\n",
       "        <td>2014-07-09</td>\n",
       "        <td>1</td>\n",
       "        <td>F3</td>\n",
       "        <td>2020-04-01</td>\n",
       "        <td>2020-06-02</td>\n",
       "        <td>None</td>\n",
       "        <td>3</td>\n",
       "    </tr>\n",
       "    <tr>\n",
       "        <td>B5</td>\n",
       "        <td>Database Design</td>\n",
       "        <td>Books-non fiction</td>\n",
       "        <td>2009-05-02</td>\n",
       "        <td>1</td>\n",
       "        <td>NF1</td>\n",
       "        <td>2020-02-01</td>\n",
       "        <td>2020-04-02</td>\n",
       "        <td>2020-03-28</td>\n",
       "        <td>7</td>\n",
       "    </tr>\n",
       "    <tr>\n",
       "        <td>B6</td>\n",
       "        <td>An Adventure City 1</td>\n",
       "        <td>Books-fiction</td>\n",
       "        <td>2012-09-12</td>\n",
       "        <td>0</td>\n",
       "        <td>F5</td>\n",
       "        <td>2020-03-01</td>\n",
       "        <td>2020-05-02</td>\n",
       "        <td>None</td>\n",
       "        <td>11</td>\n",
       "    </tr>\n",
       "    <tr>\n",
       "        <td>B7</td>\n",
       "        <td>The Amazing World of Science Part-1</td>\n",
       "        <td>Books-non fiction</td>\n",
       "        <td>1991-09-04</td>\n",
       "        <td>1</td>\n",
       "        <td>NF1</td>\n",
       "        <td>2020-01-01</td>\n",
       "        <td>2020-03-02</td>\n",
       "        <td>2020-03-01</td>\n",
       "        <td>8</td>\n",
       "    </tr>\n",
       "    <tr>\n",
       "        <td>B8</td>\n",
       "        <td>The Great Gatsby</td>\n",
       "        <td>Books-fiction</td>\n",
       "        <td>2014-07-09</td>\n",
       "        <td>1</td>\n",
       "        <td>F7</td>\n",
       "        <td>2020-04-01</td>\n",
       "        <td>2020-06-02</td>\n",
       "        <td>None</td>\n",
       "        <td>9</td>\n",
       "    </tr>\n",
       "    <tr>\n",
       "        <td>B9</td>\n",
       "        <td>An Adventure City 2</td>\n",
       "        <td>Books-fiction</td>\n",
       "        <td>2009-05-02</td>\n",
       "        <td>1</td>\n",
       "        <td>F1</td>\n",
       "        <td>2020-02-01</td>\n",
       "        <td>2020-04-02</td>\n",
       "        <td>2020-03-28</td>\n",
       "        <td>11</td>\n",
       "    </tr>\n",
       "    <tr>\n",
       "        <td>B11</td>\n",
       "        <td>An Adventure City 3</td>\n",
       "        <td>Books-fiction</td>\n",
       "        <td>2012-09-12</td>\n",
       "        <td>0</td>\n",
       "        <td>F4</td>\n",
       "        <td>2020-03-01</td>\n",
       "        <td>2020-05-02</td>\n",
       "        <td>None</td>\n",
       "        <td>12</td>\n",
       "    </tr>\n",
       "    <tr>\n",
       "        <td>P1</td>\n",
       "        <td>Fashion Focus</td>\n",
       "        <td>Magazine</td>\n",
       "        <td>2017-09-12</td>\n",
       "        <td>1</td>\n",
       "        <td>PM4</td>\n",
       "        <td>2019-03-01</td>\n",
       "        <td>2019-05-02</td>\n",
       "        <td>2019-05-02</td>\n",
       "        <td>11</td>\n",
       "    </tr>\n",
       "    <tr>\n",
       "        <td>P2</td>\n",
       "        <td>City Scoop</td>\n",
       "        <td>Magazine</td>\n",
       "        <td>2020-01-05</td>\n",
       "        <td>1</td>\n",
       "        <td>PM2</td>\n",
       "        <td>2020-03-01</td>\n",
       "        <td>2020-05-01</td>\n",
       "        <td>None</td>\n",
       "        <td>7</td>\n",
       "    </tr>\n",
       "    <tr>\n",
       "        <td>P3</td>\n",
       "        <td>Vogue</td>\n",
       "        <td>Magazine</td>\n",
       "        <td>2019-09-12</td>\n",
       "        <td>1</td>\n",
       "        <td>PM4</td>\n",
       "        <td>2020-03-02</td>\n",
       "        <td>2020-03-02</td>\n",
       "        <td>None</td>\n",
       "        <td>2</td>\n",
       "    </tr>\n",
       "    <tr>\n",
       "        <td>P4</td>\n",
       "        <td>Soul Talk</td>\n",
       "        <td>Magazine</td>\n",
       "        <td>2019-09-11</td>\n",
       "        <td>0</td>\n",
       "        <td>PM6</td>\n",
       "        <td>2020-01-01</td>\n",
       "        <td>2020-03-01</td>\n",
       "        <td>2020-03-01</td>\n",
       "        <td>1</td>\n",
       "    </tr>\n",
       "    <tr>\n",
       "        <td>P5</td>\n",
       "        <td>Disculture</td>\n",
       "        <td>Magazine</td>\n",
       "        <td>2015-09-11</td>\n",
       "        <td>1</td>\n",
       "        <td>PM4</td>\n",
       "        <td>2019-03-01</td>\n",
       "        <td>2019-05-01</td>\n",
       "        <td>2019-05-01</td>\n",
       "        <td>11</td>\n",
       "    </tr>\n",
       "    <tr>\n",
       "        <td>P6</td>\n",
       "        <td>Journal of Applied Physics</td>\n",
       "        <td>Journal</td>\n",
       "        <td>2009-09-12</td>\n",
       "        <td>0</td>\n",
       "        <td>PJ1</td>\n",
       "        <td>2010-03-01</td>\n",
       "        <td>2010-06-01</td>\n",
       "        <td>2010-06-01</td>\n",
       "        <td>18</td>\n",
       "    </tr>\n",
       "    <tr>\n",
       "        <td>P7</td>\n",
       "        <td>Journal of Electrical Engineering</td>\n",
       "        <td>Journal</td>\n",
       "        <td>2008-09-12</td>\n",
       "        <td>1</td>\n",
       "        <td>PJ4</td>\n",
       "        <td>2011-03-01</td>\n",
       "        <td>2011-05-01</td>\n",
       "        <td>2011-05-01</td>\n",
       "        <td>15</td>\n",
       "    </tr>\n",
       "    <tr>\n",
       "        <td>P8</td>\n",
       "        <td>Nature</td>\n",
       "        <td>Journal</td>\n",
       "        <td>2019-08-12</td>\n",
       "        <td>0</td>\n",
       "        <td>PJ7</td>\n",
       "        <td>2020-03-01</td>\n",
       "        <td>2020-05-01</td>\n",
       "        <td>None</td>\n",
       "        <td>13</td>\n",
       "    </tr>\n",
       "    <tr>\n",
       "        <td>P9</td>\n",
       "        <td>Journal of water management</td>\n",
       "        <td>Journal</td>\n",
       "        <td>2012-05-12</td>\n",
       "        <td>1</td>\n",
       "        <td>PJ2</td>\n",
       "        <td>2018-03-01</td>\n",
       "        <td>2018-05-01</td>\n",
       "        <td>2018-05-01</td>\n",
       "        <td>6</td>\n",
       "    </tr>\n",
       "    <tr>\n",
       "        <td>P11</td>\n",
       "        <td>Journal of Mathematics</td>\n",
       "        <td>Journal</td>\n",
       "        <td>2013-01-12</td>\n",
       "        <td>1</td>\n",
       "        <td>PJ4</td>\n",
       "        <td>2015-03-01</td>\n",
       "        <td>2015-05-01</td>\n",
       "        <td>2015-05-01</td>\n",
       "        <td>5</td>\n",
       "    </tr>\n",
       "    <tr>\n",
       "        <td>A1</td>\n",
       "        <td>Tongue and cheeks</td>\n",
       "        <td>Movie</td>\n",
       "        <td>2017-09-12</td>\n",
       "        <td>1</td>\n",
       "        <td>M4</td>\n",
       "        <td>2019-03-01</td>\n",
       "        <td>2019-05-02</td>\n",
       "        <td>2019-05-02</td>\n",
       "        <td>11</td>\n",
       "    </tr>\n",
       "    <tr>\n",
       "        <td>A2</td>\n",
       "        <td>Beasts of beauty</td>\n",
       "        <td>Movie</td>\n",
       "        <td>2020-01-05</td>\n",
       "        <td>1</td>\n",
       "        <td>M2</td>\n",
       "        <td>2020-03-01</td>\n",
       "        <td>2020-05-01</td>\n",
       "        <td>None</td>\n",
       "        <td>7</td>\n",
       "    </tr>\n",
       "    <tr>\n",
       "        <td>A3</td>\n",
       "        <td>Bankrupcy</td>\n",
       "        <td>Movie</td>\n",
       "        <td>2019-09-12</td>\n",
       "        <td>1</td>\n",
       "        <td>M4</td>\n",
       "        <td>2020-03-02</td>\n",
       "        <td>2020-03-02</td>\n",
       "        <td>None</td>\n",
       "        <td>2</td>\n",
       "    </tr>\n",
       "    <tr>\n",
       "        <td>A4</td>\n",
       "        <td>Death dead</td>\n",
       "        <td>Movie</td>\n",
       "        <td>2019-09-11</td>\n",
       "        <td>0</td>\n",
       "        <td>M6</td>\n",
       "        <td>2020-01-01</td>\n",
       "        <td>2020-03-01</td>\n",
       "        <td>2020-03-01</td>\n",
       "        <td>1</td>\n",
       "    </tr>\n",
       "    <tr>\n",
       "        <td>A5</td>\n",
       "        <td>Cloud nine</td>\n",
       "        <td>Movie</td>\n",
       "        <td>2015-09-11</td>\n",
       "        <td>1</td>\n",
       "        <td>M4</td>\n",
       "        <td>2019-03-01</td>\n",
       "        <td>2019-05-01</td>\n",
       "        <td>2019-05-01</td>\n",
       "        <td>11</td>\n",
       "    </tr>\n",
       "    <tr>\n",
       "        <td>A6</td>\n",
       "        <td>Bold fortune</td>\n",
       "        <td>Music</td>\n",
       "        <td>2009-09-12</td>\n",
       "        <td>0</td>\n",
       "        <td>MU1</td>\n",
       "        <td>2010-03-01</td>\n",
       "        <td>2010-06-01</td>\n",
       "        <td>2010-06-01</td>\n",
       "        <td>18</td>\n",
       "    </tr>\n",
       "    <tr>\n",
       "        <td>A7</td>\n",
       "        <td>So far so great</td>\n",
       "        <td>Music</td>\n",
       "        <td>2008-09-12</td>\n",
       "        <td>1</td>\n",
       "        <td>MU4</td>\n",
       "        <td>2011-03-01</td>\n",
       "        <td>2011-05-01</td>\n",
       "        <td>2011-05-01</td>\n",
       "        <td>15</td>\n",
       "    </tr>\n",
       "    <tr>\n",
       "        <td>A8</td>\n",
       "        <td>Honesty</td>\n",
       "        <td>Music</td>\n",
       "        <td>2019-08-12</td>\n",
       "        <td>0</td>\n",
       "        <td>MU7</td>\n",
       "        <td>2020-03-01</td>\n",
       "        <td>2020-05-01</td>\n",
       "        <td>None</td>\n",
       "        <td>13</td>\n",
       "    </tr>\n",
       "    <tr>\n",
       "        <td>A9</td>\n",
       "        <td>Battleborn</td>\n",
       "        <td>Music</td>\n",
       "        <td>2012-05-12</td>\n",
       "        <td>1</td>\n",
       "        <td>MU2</td>\n",
       "        <td>2018-03-01</td>\n",
       "        <td>2018-05-01</td>\n",
       "        <td>2018-05-01</td>\n",
       "        <td>6</td>\n",
       "    </tr>\n",
       "    <tr>\n",
       "        <td>A11</td>\n",
       "        <td>Parliment of fools</td>\n",
       "        <td>Music</td>\n",
       "        <td>2013-01-12</td>\n",
       "        <td>1</td>\n",
       "        <td>MU4</td>\n",
       "        <td>2015-03-01</td>\n",
       "        <td>2015-05-01</td>\n",
       "        <td>2015-05-01</td>\n",
       "        <td>5</td>\n",
       "    </tr>\n",
       "</table>"
      ],
      "text/plain": [
       "[('B1', 'Introduction to Algorithm', 'Books-non fiction', '2009-05-02', 1, 'NF1', '2020-02-01', '2020-04-02', '2020-03-28', '5'),\n",
       " ('B2', 'Frankenstein', 'Books-fiction', '2012-09-12', 1, 'F1', '2020-02-01', '2020-05-02', None, '1'),\n",
       " ('B3', 'Nevermind', 'Books-fiction', '1991-09-04', 1, 'F3', '2020-01-01', '2020-03-02', '2020-03-01', '4'),\n",
       " ('B4', 'Big Little Lies', 'Books-fiction', '2014-07-09', 1, 'F3', '2020-04-01', '2020-06-02', None, '3'),\n",
       " ('B5', 'Database Design', 'Books-non fiction', '2009-05-02', 1, 'NF1', '2020-02-01', '2020-04-02', '2020-03-28', '7'),\n",
       " ('B6', 'An Adventure City 1', 'Books-fiction', '2012-09-12', 0, 'F5', '2020-03-01', '2020-05-02', None, '11'),\n",
       " ('B7', 'The Amazing World of Science Part-1', 'Books-non fiction', '1991-09-04', 1, 'NF1', '2020-01-01', '2020-03-02', '2020-03-01', '8'),\n",
       " ('B8', 'The Great Gatsby', 'Books-fiction', '2014-07-09', 1, 'F7', '2020-04-01', '2020-06-02', None, '9'),\n",
       " ('B9', 'An Adventure City 2', 'Books-fiction', '2009-05-02', 1, 'F1', '2020-02-01', '2020-04-02', '2020-03-28', '11'),\n",
       " ('B11', 'An Adventure City 3', 'Books-fiction', '2012-09-12', 0, 'F4', '2020-03-01', '2020-05-02', None, '12'),\n",
       " ('P1', 'Fashion Focus', 'Magazine', '2017-09-12', 1, 'PM4', '2019-03-01', '2019-05-02', '2019-05-02', '11'),\n",
       " ('P2', 'City Scoop', 'Magazine', '2020-01-05', 1, 'PM2', '2020-03-01', '2020-05-01', None, '7'),\n",
       " ('P3', 'Vogue', 'Magazine', '2019-09-12', 1, 'PM4', '2020-03-02', '2020-03-02', None, '2'),\n",
       " ('P4', 'Soul Talk', 'Magazine', '2019-09-11', 0, 'PM6', '2020-01-01', '2020-03-01', '2020-03-01', '1'),\n",
       " ('P5', 'Disculture', 'Magazine', '2015-09-11', 1, 'PM4', '2019-03-01', '2019-05-01', '2019-05-01', '11'),\n",
       " ('P6', 'Journal of Applied Physics', 'Journal', '2009-09-12', 0, 'PJ1', '2010-03-01', '2010-06-01', '2010-06-01', '18'),\n",
       " ('P7', 'Journal of Electrical Engineering', 'Journal', '2008-09-12', 1, 'PJ4', '2011-03-01', '2011-05-01', '2011-05-01', '15'),\n",
       " ('P8', 'Nature', 'Journal', '2019-08-12', 0, 'PJ7', '2020-03-01', '2020-05-01', None, '13'),\n",
       " ('P9', 'Journal of water management', 'Journal', '2012-05-12', 1, 'PJ2', '2018-03-01', '2018-05-01', '2018-05-01', '6'),\n",
       " ('P11', 'Journal of Mathematics', 'Journal', '2013-01-12', 1, 'PJ4', '2015-03-01', '2015-05-01', '2015-05-01', '5'),\n",
       " ('A1', 'Tongue and cheeks', 'Movie', '2017-09-12', 1, 'M4', '2019-03-01', '2019-05-02', '2019-05-02', '11'),\n",
       " ('A2', 'Beasts of beauty', 'Movie', '2020-01-05', 1, 'M2', '2020-03-01', '2020-05-01', None, '7'),\n",
       " ('A3', 'Bankrupcy', 'Movie', '2019-09-12', 1, 'M4', '2020-03-02', '2020-03-02', None, '2'),\n",
       " ('A4', 'Death dead', 'Movie', '2019-09-11', 0, 'M6', '2020-01-01', '2020-03-01', '2020-03-01', '1'),\n",
       " ('A5', 'Cloud nine', 'Movie', '2015-09-11', 1, 'M4', '2019-03-01', '2019-05-01', '2019-05-01', '11'),\n",
       " ('A6', 'Bold fortune', 'Music', '2009-09-12', 0, 'MU1', '2010-03-01', '2010-06-01', '2010-06-01', '18'),\n",
       " ('A7', 'So far so great', 'Music', '2008-09-12', 1, 'MU4', '2011-03-01', '2011-05-01', '2011-05-01', '15'),\n",
       " ('A8', 'Honesty', 'Music', '2019-08-12', 0, 'MU7', '2020-03-01', '2020-05-01', None, '13'),\n",
       " ('A9', 'Battleborn', 'Music', '2012-05-12', 1, 'MU2', '2018-03-01', '2018-05-01', '2018-05-01', '6'),\n",
       " ('A11', 'Parliment of fools', 'Music', '2013-01-12', 1, 'MU4', '2015-03-01', '2015-05-01', '2015-05-01', '5')]"
      ]
     },
     "execution_count": 10,
     "metadata": {},
     "output_type": "execute_result"
    }
   ],
   "source": [
    "%%sql \n",
    "\n",
    "SELECT * FROM Item;"
   ]
  },
  {
   "cell_type": "code",
   "execution_count": 11,
   "metadata": {
    "colab": {
     "base_uri": "https://localhost:8080/",
     "height": 70
    },
    "colab_type": "code",
    "executionInfo": {
     "elapsed": 1054,
     "status": "ok",
     "timestamp": 1586274251167,
     "user": {
      "displayName": "Maggie Xu",
      "photoUrl": "https://lh5.googleusercontent.com/-zJOrSEiKgYQ/AAAAAAAAAAI/AAAAAAAAAV8/DqAuQcf5CJQ/s64/photo.jpg",
      "userId": "04515744612811211407"
     },
     "user_tz": 420
    },
    "id": "PuDYv5S0PpU0",
    "outputId": "89a2921c-5982-4da9-e2cf-ccfa7c7b92ef"
   },
   "outputs": [
    {
     "name": "stdout",
     "output_type": "stream",
     "text": [
      " * sqlite:///library.db\n",
      "10 rows affected.\n"
     ]
    },
    {
     "data": {
      "text/plain": [
       "[]"
      ]
     },
     "execution_count": 11,
     "metadata": {},
     "output_type": "execute_result"
    }
   ],
   "source": [
    "%%sql\n",
    "INSERT INTO Books\n",
    "VALUES('1st edition', 'B1', 1), \n",
    "('1831 edition', 'B2', 0), \n",
    "('2nd edition', 'B3', 0),\n",
    "('1st edition', 'B4', 1), \n",
    "('3rd edition', 'B5', 0), \n",
    "('2nd edition', 'B6', 0),\n",
    "('1st edition', 'B7', 1), \n",
    "('2nd edition', 'B8', 0), \n",
    "('2nd edition', 'B9', 0),\n",
    "('1st edition', 'B11', 1); \n",
    "\n"
   ]
  },
  {
   "cell_type": "code",
   "execution_count": 12,
   "metadata": {},
   "outputs": [
    {
     "name": "stdout",
     "output_type": "stream",
     "text": [
      " * sqlite:///library.db\n",
      "Done.\n"
     ]
    },
    {
     "data": {
      "text/html": [
       "<table>\n",
       "    <tr>\n",
       "        <th>edition</th>\n",
       "        <th>item_id</th>\n",
       "        <th>online</th>\n",
       "    </tr>\n",
       "    <tr>\n",
       "        <td>1st edition</td>\n",
       "        <td>B1</td>\n",
       "        <td>1</td>\n",
       "    </tr>\n",
       "    <tr>\n",
       "        <td>1831 edition</td>\n",
       "        <td>B2</td>\n",
       "        <td>0</td>\n",
       "    </tr>\n",
       "    <tr>\n",
       "        <td>2nd edition</td>\n",
       "        <td>B3</td>\n",
       "        <td>0</td>\n",
       "    </tr>\n",
       "    <tr>\n",
       "        <td>1st edition</td>\n",
       "        <td>B4</td>\n",
       "        <td>1</td>\n",
       "    </tr>\n",
       "    <tr>\n",
       "        <td>3rd edition</td>\n",
       "        <td>B5</td>\n",
       "        <td>0</td>\n",
       "    </tr>\n",
       "    <tr>\n",
       "        <td>2nd edition</td>\n",
       "        <td>B6</td>\n",
       "        <td>0</td>\n",
       "    </tr>\n",
       "    <tr>\n",
       "        <td>1st edition</td>\n",
       "        <td>B7</td>\n",
       "        <td>1</td>\n",
       "    </tr>\n",
       "    <tr>\n",
       "        <td>2nd edition</td>\n",
       "        <td>B8</td>\n",
       "        <td>0</td>\n",
       "    </tr>\n",
       "    <tr>\n",
       "        <td>2nd edition</td>\n",
       "        <td>B9</td>\n",
       "        <td>0</td>\n",
       "    </tr>\n",
       "    <tr>\n",
       "        <td>1st edition</td>\n",
       "        <td>B11</td>\n",
       "        <td>1</td>\n",
       "    </tr>\n",
       "</table>"
      ],
      "text/plain": [
       "[('1st edition', 'B1', 1),\n",
       " ('1831 edition', 'B2', 0),\n",
       " ('2nd edition', 'B3', 0),\n",
       " ('1st edition', 'B4', 1),\n",
       " ('3rd edition', 'B5', 0),\n",
       " ('2nd edition', 'B6', 0),\n",
       " ('1st edition', 'B7', 1),\n",
       " ('2nd edition', 'B8', 0),\n",
       " ('2nd edition', 'B9', 0),\n",
       " ('1st edition', 'B11', 1)]"
      ]
     },
     "execution_count": 12,
     "metadata": {},
     "output_type": "execute_result"
    }
   ],
   "source": [
    "%%sql \n",
    "\n",
    "SELECT * FROM Books;"
   ]
  },
  {
   "cell_type": "code",
   "execution_count": 13,
   "metadata": {},
   "outputs": [
    {
     "name": "stdout",
     "output_type": "stream",
     "text": [
      " * sqlite:///library.db\n",
      "10 rows affected.\n"
     ]
    },
    {
     "data": {
      "text/plain": [
       "[]"
      ]
     },
     "execution_count": 13,
     "metadata": {},
     "output_type": "execute_result"
    }
   ],
   "source": [
    "%%sql\n",
    "INSERT INTO Periodicals\n",
    "VALUES('III', '3','P1',1),\n",
    "('V', '21','P2',0),\n",
    "('11', '43','P3',0),\n",
    "('30', '3','P4',0),\n",
    "('5', '5','P5',1),\n",
    "('8', '56','P6',1),\n",
    "('13', '84','P7',0),\n",
    "('17', '5','P8',1),\n",
    "('19', '3','P9',1),\n",
    "('II', '2','P11',0);"
   ]
  },
  {
   "cell_type": "code",
   "execution_count": 14,
   "metadata": {},
   "outputs": [
    {
     "name": "stdout",
     "output_type": "stream",
     "text": [
      " * sqlite:///library.db\n",
      "Done.\n"
     ]
    },
    {
     "data": {
      "text/html": [
       "<table>\n",
       "    <tr>\n",
       "        <th>volume</th>\n",
       "        <th>issue</th>\n",
       "        <th>item_id</th>\n",
       "        <th>online</th>\n",
       "    </tr>\n",
       "    <tr>\n",
       "        <td>III</td>\n",
       "        <td>3</td>\n",
       "        <td>P1</td>\n",
       "        <td>1</td>\n",
       "    </tr>\n",
       "    <tr>\n",
       "        <td>V</td>\n",
       "        <td>21</td>\n",
       "        <td>P2</td>\n",
       "        <td>0</td>\n",
       "    </tr>\n",
       "    <tr>\n",
       "        <td>11</td>\n",
       "        <td>43</td>\n",
       "        <td>P3</td>\n",
       "        <td>0</td>\n",
       "    </tr>\n",
       "    <tr>\n",
       "        <td>30</td>\n",
       "        <td>3</td>\n",
       "        <td>P4</td>\n",
       "        <td>0</td>\n",
       "    </tr>\n",
       "    <tr>\n",
       "        <td>5</td>\n",
       "        <td>5</td>\n",
       "        <td>P5</td>\n",
       "        <td>1</td>\n",
       "    </tr>\n",
       "    <tr>\n",
       "        <td>8</td>\n",
       "        <td>56</td>\n",
       "        <td>P6</td>\n",
       "        <td>1</td>\n",
       "    </tr>\n",
       "    <tr>\n",
       "        <td>13</td>\n",
       "        <td>84</td>\n",
       "        <td>P7</td>\n",
       "        <td>0</td>\n",
       "    </tr>\n",
       "    <tr>\n",
       "        <td>17</td>\n",
       "        <td>5</td>\n",
       "        <td>P8</td>\n",
       "        <td>1</td>\n",
       "    </tr>\n",
       "    <tr>\n",
       "        <td>19</td>\n",
       "        <td>3</td>\n",
       "        <td>P9</td>\n",
       "        <td>1</td>\n",
       "    </tr>\n",
       "    <tr>\n",
       "        <td>II</td>\n",
       "        <td>2</td>\n",
       "        <td>P11</td>\n",
       "        <td>0</td>\n",
       "    </tr>\n",
       "</table>"
      ],
      "text/plain": [
       "[('III', 3, 'P1', 1),\n",
       " ('V', 21, 'P2', 0),\n",
       " ('11', 43, 'P3', 0),\n",
       " ('30', 3, 'P4', 0),\n",
       " ('5', 5, 'P5', 1),\n",
       " ('8', 56, 'P6', 1),\n",
       " ('13', 84, 'P7', 0),\n",
       " ('17', 5, 'P8', 1),\n",
       " ('19', 3, 'P9', 1),\n",
       " ('II', 2, 'P11', 0)]"
      ]
     },
     "execution_count": 14,
     "metadata": {},
     "output_type": "execute_result"
    }
   ],
   "source": [
    "%%sql \n",
    "\n",
    "SELECT * FROM Periodicals;"
   ]
  },
  {
   "cell_type": "code",
   "execution_count": 15,
   "metadata": {},
   "outputs": [
    {
     "name": "stdout",
     "output_type": "stream",
     "text": [
      " * sqlite:///library.db\n",
      "10 rows affected.\n"
     ]
    },
    {
     "data": {
      "text/plain": [
       "[]"
      ]
     },
     "execution_count": 15,
     "metadata": {},
     "output_type": "execute_result"
    }
   ],
   "source": [
    "%%sql\n",
    "INSERT INTO Audiovisuals \n",
    "VALUES ('CD', 'A1'),\n",
    "('DVD', 'A2'),\n",
    "('CD', 'A3'),\n",
    "('DVD', 'A4'),\n",
    "('CDl', 'A5'),\n",
    "('DVD', 'A6'),\n",
    "('CD', 'A7'),\n",
    "('record', 'A8'),\n",
    "('CD', 'A9'),\n",
    "('casette', 'A11');"
   ]
  },
  {
   "cell_type": "code",
   "execution_count": 16,
   "metadata": {},
   "outputs": [
    {
     "name": "stdout",
     "output_type": "stream",
     "text": [
      " * sqlite:///library.db\n",
      "Done.\n"
     ]
    },
    {
     "data": {
      "text/html": [
       "<table>\n",
       "    <tr>\n",
       "        <th>medium</th>\n",
       "        <th>item_id</th>\n",
       "    </tr>\n",
       "    <tr>\n",
       "        <td>CD</td>\n",
       "        <td>A1</td>\n",
       "    </tr>\n",
       "    <tr>\n",
       "        <td>DVD</td>\n",
       "        <td>A2</td>\n",
       "    </tr>\n",
       "    <tr>\n",
       "        <td>CD</td>\n",
       "        <td>A3</td>\n",
       "    </tr>\n",
       "    <tr>\n",
       "        <td>DVD</td>\n",
       "        <td>A4</td>\n",
       "    </tr>\n",
       "    <tr>\n",
       "        <td>CDl</td>\n",
       "        <td>A5</td>\n",
       "    </tr>\n",
       "    <tr>\n",
       "        <td>DVD</td>\n",
       "        <td>A6</td>\n",
       "    </tr>\n",
       "    <tr>\n",
       "        <td>CD</td>\n",
       "        <td>A7</td>\n",
       "    </tr>\n",
       "    <tr>\n",
       "        <td>record</td>\n",
       "        <td>A8</td>\n",
       "    </tr>\n",
       "    <tr>\n",
       "        <td>CD</td>\n",
       "        <td>A9</td>\n",
       "    </tr>\n",
       "    <tr>\n",
       "        <td>casette</td>\n",
       "        <td>A11</td>\n",
       "    </tr>\n",
       "</table>"
      ],
      "text/plain": [
       "[('CD', 'A1'),\n",
       " ('DVD', 'A2'),\n",
       " ('CD', 'A3'),\n",
       " ('DVD', 'A4'),\n",
       " ('CDl', 'A5'),\n",
       " ('DVD', 'A6'),\n",
       " ('CD', 'A7'),\n",
       " ('record', 'A8'),\n",
       " ('CD', 'A9'),\n",
       " ('casette', 'A11')]"
      ]
     },
     "execution_count": 16,
     "metadata": {},
     "output_type": "execute_result"
    }
   ],
   "source": [
    "%%sql \n",
    "\n",
    "SELECT * FROM Audiovisuals ;"
   ]
  },
  {
   "cell_type": "code",
   "execution_count": 17,
   "metadata": {},
   "outputs": [
    {
     "name": "stdout",
     "output_type": "stream",
     "text": [
      " * sqlite:///library.db\n",
      "10 rows affected.\n"
     ]
    },
    {
     "data": {
      "text/plain": [
       "[]"
      ]
     },
     "execution_count": 17,
     "metadata": {},
     "output_type": "execute_result"
    }
   ],
   "source": [
    "%%sql\n",
    "INSERT INTO Artist \n",
    "VALUES('ART1', 'Tony Scott'),\n",
    "('ART2', 'Ross Everett'),\n",
    "('ART3', 'Nicolas Chandler'),\n",
    "('ART4', 'Billy Sierra'),\n",
    "('ART5', 'Lauren Strong'),\n",
    "('ART6', 'Nirvana'),\n",
    "('ART7', 'Leah Page'),\n",
    "('ART8', 'Jude Carter'),\n",
    "('ART9', 'Nirvana'),\n",
    "('ART11', 'Aiden Diamond');"
   ]
  },
  {
   "cell_type": "code",
   "execution_count": 18,
   "metadata": {},
   "outputs": [
    {
     "name": "stdout",
     "output_type": "stream",
     "text": [
      " * sqlite:///library.db\n",
      "Done.\n"
     ]
    },
    {
     "data": {
      "text/html": [
       "<table>\n",
       "    <tr>\n",
       "        <th>artist_id</th>\n",
       "        <th>artist_name</th>\n",
       "    </tr>\n",
       "    <tr>\n",
       "        <td>ART1</td>\n",
       "        <td>Tony Scott</td>\n",
       "    </tr>\n",
       "    <tr>\n",
       "        <td>ART2</td>\n",
       "        <td>Ross Everett</td>\n",
       "    </tr>\n",
       "    <tr>\n",
       "        <td>ART3</td>\n",
       "        <td>Nicolas Chandler</td>\n",
       "    </tr>\n",
       "    <tr>\n",
       "        <td>ART4</td>\n",
       "        <td>Billy Sierra</td>\n",
       "    </tr>\n",
       "    <tr>\n",
       "        <td>ART5</td>\n",
       "        <td>Lauren Strong</td>\n",
       "    </tr>\n",
       "    <tr>\n",
       "        <td>ART6</td>\n",
       "        <td>Nirvana</td>\n",
       "    </tr>\n",
       "    <tr>\n",
       "        <td>ART7</td>\n",
       "        <td>Leah Page</td>\n",
       "    </tr>\n",
       "    <tr>\n",
       "        <td>ART8</td>\n",
       "        <td>Jude Carter</td>\n",
       "    </tr>\n",
       "    <tr>\n",
       "        <td>ART9</td>\n",
       "        <td>Nirvana</td>\n",
       "    </tr>\n",
       "    <tr>\n",
       "        <td>ART11</td>\n",
       "        <td>Aiden Diamond</td>\n",
       "    </tr>\n",
       "</table>"
      ],
      "text/plain": [
       "[('ART1', 'Tony Scott'),\n",
       " ('ART2', 'Ross Everett'),\n",
       " ('ART3', 'Nicolas Chandler'),\n",
       " ('ART4', 'Billy Sierra'),\n",
       " ('ART5', 'Lauren Strong'),\n",
       " ('ART6', 'Nirvana'),\n",
       " ('ART7', 'Leah Page'),\n",
       " ('ART8', 'Jude Carter'),\n",
       " ('ART9', 'Nirvana'),\n",
       " ('ART11', 'Aiden Diamond')]"
      ]
     },
     "execution_count": 18,
     "metadata": {},
     "output_type": "execute_result"
    }
   ],
   "source": [
    "%%sql \n",
    "\n",
    "SELECT * FROM Artist ;"
   ]
  },
  {
   "cell_type": "code",
   "execution_count": 19,
   "metadata": {
    "colab": {
     "base_uri": "https://localhost:8080/",
     "height": 563
    },
    "colab_type": "code",
    "executionInfo": {
     "elapsed": 913,
     "status": "error",
     "timestamp": 1586287276304,
     "user": {
      "displayName": "Divya Thomas",
      "photoUrl": "",
      "userId": "03406556560689279233"
     },
     "user_tz": 420
    },
    "id": "LcGCuWKePpU3",
    "outputId": "60b0bdff-8afe-476f-97ff-f002f638c517"
   },
   "outputs": [
    {
     "name": "stdout",
     "output_type": "stream",
     "text": [
      " * sqlite:///library.db\n",
      "10 rows affected.\n"
     ]
    },
    {
     "data": {
      "text/plain": [
       "[]"
      ]
     },
     "execution_count": 19,
     "metadata": {},
     "output_type": "execute_result"
    }
   ],
   "source": [
    "%%sql\n",
    "\n",
    "INSERT INTO Author \n",
    "VALUES('AU1', 'Thomas', 'Cormen'),\n",
    "('AU2', 'Jess', 'Waters'),\n",
    "('AU3', 'Brett', 'Marshall'),\n",
    "('AU4', 'Marlene', 'Bishop'),\n",
    "('AU5', 'Ellen', 'Holmes'),\n",
    "('AU6', 'Chelsea', 'Banks'),\n",
    "('AU7', 'Morris ', 'Harris'),\n",
    "('AU8', 'Ash ', 'Barron'),\n",
    "('AU9', 'Cristian', 'Brooks'),\n",
    "('AU10', 'Andrews', 'Graves');\n",
    "\n",
    "\n"
   ]
  },
  {
   "cell_type": "code",
   "execution_count": 20,
   "metadata": {},
   "outputs": [
    {
     "name": "stdout",
     "output_type": "stream",
     "text": [
      " * sqlite:///library.db\n",
      "Done.\n"
     ]
    },
    {
     "data": {
      "text/html": [
       "<table>\n",
       "    <tr>\n",
       "        <th>author_id</th>\n",
       "        <th>first_name</th>\n",
       "        <th>last_name</th>\n",
       "    </tr>\n",
       "    <tr>\n",
       "        <td>AU1</td>\n",
       "        <td>Thomas</td>\n",
       "        <td>Cormen</td>\n",
       "    </tr>\n",
       "    <tr>\n",
       "        <td>AU2</td>\n",
       "        <td>Jess</td>\n",
       "        <td>Waters</td>\n",
       "    </tr>\n",
       "    <tr>\n",
       "        <td>AU3</td>\n",
       "        <td>Brett</td>\n",
       "        <td>Marshall</td>\n",
       "    </tr>\n",
       "    <tr>\n",
       "        <td>AU4</td>\n",
       "        <td>Marlene</td>\n",
       "        <td>Bishop</td>\n",
       "    </tr>\n",
       "    <tr>\n",
       "        <td>AU5</td>\n",
       "        <td>Ellen</td>\n",
       "        <td>Holmes</td>\n",
       "    </tr>\n",
       "    <tr>\n",
       "        <td>AU6</td>\n",
       "        <td>Chelsea</td>\n",
       "        <td>Banks</td>\n",
       "    </tr>\n",
       "    <tr>\n",
       "        <td>AU7</td>\n",
       "        <td>Morris </td>\n",
       "        <td>Harris</td>\n",
       "    </tr>\n",
       "    <tr>\n",
       "        <td>AU8</td>\n",
       "        <td>Ash </td>\n",
       "        <td>Barron</td>\n",
       "    </tr>\n",
       "    <tr>\n",
       "        <td>AU9</td>\n",
       "        <td>Cristian</td>\n",
       "        <td>Brooks</td>\n",
       "    </tr>\n",
       "    <tr>\n",
       "        <td>AU10</td>\n",
       "        <td>Andrews</td>\n",
       "        <td>Graves</td>\n",
       "    </tr>\n",
       "</table>"
      ],
      "text/plain": [
       "[('AU1', 'Thomas', 'Cormen'),\n",
       " ('AU2', 'Jess', 'Waters'),\n",
       " ('AU3', 'Brett', 'Marshall'),\n",
       " ('AU4', 'Marlene', 'Bishop'),\n",
       " ('AU5', 'Ellen', 'Holmes'),\n",
       " ('AU6', 'Chelsea', 'Banks'),\n",
       " ('AU7', 'Morris ', 'Harris'),\n",
       " ('AU8', 'Ash ', 'Barron'),\n",
       " ('AU9', 'Cristian', 'Brooks'),\n",
       " ('AU10', 'Andrews', 'Graves')]"
      ]
     },
     "execution_count": 20,
     "metadata": {},
     "output_type": "execute_result"
    }
   ],
   "source": [
    "%%sql \n",
    "\n",
    "SELECT * FROM Author ;"
   ]
  },
  {
   "cell_type": "code",
   "execution_count": 21,
   "metadata": {},
   "outputs": [
    {
     "name": "stdout",
     "output_type": "stream",
     "text": [
      " * sqlite:///library.db\n",
      "10 rows affected.\n"
     ]
    },
    {
     "data": {
      "text/plain": [
       "[]"
      ]
     },
     "execution_count": 21,
     "metadata": {},
     "output_type": "execute_result"
    }
   ],
   "source": [
    "%%sql\n",
    "\n",
    "INSERT INTO Publisher\n",
    "VALUES('PU1', 'Golfweek Turnstile Publishing'),\n",
    "('PU2', 'Mariner Software Inc'),\n",
    "('PU3', 'Hitchcock Broadcasting'),\n",
    "('PU4', 'Atwood Publishing'),\n",
    "('PU5', 'Vicki Cato'),\n",
    "('PU6', 'Elsevier'),\n",
    "('PU7', 'Thomson Reuters'),\n",
    "('PU8', 'Xos Technologies Inc'),\n",
    "('PU9', 'Texas Outdoors Journal Inc'),\n",
    "('PU11', 'Naecr');"
   ]
  },
  {
   "cell_type": "code",
   "execution_count": 22,
   "metadata": {},
   "outputs": [
    {
     "name": "stdout",
     "output_type": "stream",
     "text": [
      " * sqlite:///library.db\n",
      "Done.\n"
     ]
    },
    {
     "data": {
      "text/html": [
       "<table>\n",
       "    <tr>\n",
       "        <th>publisher_id</th>\n",
       "        <th>publisher_name</th>\n",
       "    </tr>\n",
       "    <tr>\n",
       "        <td>PU1</td>\n",
       "        <td>Golfweek Turnstile Publishing</td>\n",
       "    </tr>\n",
       "    <tr>\n",
       "        <td>PU2</td>\n",
       "        <td>Mariner Software Inc</td>\n",
       "    </tr>\n",
       "    <tr>\n",
       "        <td>PU3</td>\n",
       "        <td>Hitchcock Broadcasting</td>\n",
       "    </tr>\n",
       "    <tr>\n",
       "        <td>PU4</td>\n",
       "        <td>Atwood Publishing</td>\n",
       "    </tr>\n",
       "    <tr>\n",
       "        <td>PU5</td>\n",
       "        <td>Vicki Cato</td>\n",
       "    </tr>\n",
       "    <tr>\n",
       "        <td>PU6</td>\n",
       "        <td>Elsevier</td>\n",
       "    </tr>\n",
       "    <tr>\n",
       "        <td>PU7</td>\n",
       "        <td>Thomson Reuters</td>\n",
       "    </tr>\n",
       "    <tr>\n",
       "        <td>PU8</td>\n",
       "        <td>Xos Technologies Inc</td>\n",
       "    </tr>\n",
       "    <tr>\n",
       "        <td>PU9</td>\n",
       "        <td>Texas Outdoors Journal Inc</td>\n",
       "    </tr>\n",
       "    <tr>\n",
       "        <td>PU11</td>\n",
       "        <td>Naecr</td>\n",
       "    </tr>\n",
       "</table>"
      ],
      "text/plain": [
       "[('PU1', 'Golfweek Turnstile Publishing'),\n",
       " ('PU2', 'Mariner Software Inc'),\n",
       " ('PU3', 'Hitchcock Broadcasting'),\n",
       " ('PU4', 'Atwood Publishing'),\n",
       " ('PU5', 'Vicki Cato'),\n",
       " ('PU6', 'Elsevier'),\n",
       " ('PU7', 'Thomson Reuters'),\n",
       " ('PU8', 'Xos Technologies Inc'),\n",
       " ('PU9', 'Texas Outdoors Journal Inc'),\n",
       " ('PU11', 'Naecr')]"
      ]
     },
     "execution_count": 22,
     "metadata": {},
     "output_type": "execute_result"
    }
   ],
   "source": [
    "%%sql \n",
    "\n",
    "SELECT * FROM Publisher;"
   ]
  },
  {
   "cell_type": "code",
   "execution_count": 23,
   "metadata": {},
   "outputs": [
    {
     "name": "stdout",
     "output_type": "stream",
     "text": [
      " * sqlite:///library.db\n",
      "10 rows affected.\n"
     ]
    },
    {
     "data": {
      "text/plain": [
       "[]"
      ]
     },
     "execution_count": 23,
     "metadata": {},
     "output_type": "execute_result"
    }
   ],
   "source": [
    "%%sql\n",
    "\n",
    "INSERT INTO Producer\n",
    "VALUES('PRO1', 'Glen Khan'),\n",
    "('PRO2', 'Tom Moon'),\n",
    "('PRO3', 'Oliver Page Productions'),\n",
    "('PRO4', 'David Gordon'),\n",
    "('PRO5', 'Maddox Strange'),\n",
    "('PRO6', 'Denny Sterling'),\n",
    "('PRO7', 'Brook Christy'),\n",
    "('PRO8', 'Elizabeth Nelson'),\n",
    "('PRO9', 'Erika Strong'),\n",
    "('PRO11', 'Ella Rich');"
   ]
  },
  {
   "cell_type": "code",
   "execution_count": 24,
   "metadata": {},
   "outputs": [
    {
     "name": "stdout",
     "output_type": "stream",
     "text": [
      " * sqlite:///library.db\n",
      "Done.\n"
     ]
    },
    {
     "data": {
      "text/html": [
       "<table>\n",
       "    <tr>\n",
       "        <th>producer_id</th>\n",
       "        <th>producer_name</th>\n",
       "    </tr>\n",
       "    <tr>\n",
       "        <td>PRO1</td>\n",
       "        <td>Glen Khan</td>\n",
       "    </tr>\n",
       "    <tr>\n",
       "        <td>PRO2</td>\n",
       "        <td>Tom Moon</td>\n",
       "    </tr>\n",
       "    <tr>\n",
       "        <td>PRO3</td>\n",
       "        <td>Oliver Page Productions</td>\n",
       "    </tr>\n",
       "    <tr>\n",
       "        <td>PRO4</td>\n",
       "        <td>David Gordon</td>\n",
       "    </tr>\n",
       "    <tr>\n",
       "        <td>PRO5</td>\n",
       "        <td>Maddox Strange</td>\n",
       "    </tr>\n",
       "    <tr>\n",
       "        <td>PRO6</td>\n",
       "        <td>Denny Sterling</td>\n",
       "    </tr>\n",
       "    <tr>\n",
       "        <td>PRO7</td>\n",
       "        <td>Brook Christy</td>\n",
       "    </tr>\n",
       "    <tr>\n",
       "        <td>PRO8</td>\n",
       "        <td>Elizabeth Nelson</td>\n",
       "    </tr>\n",
       "    <tr>\n",
       "        <td>PRO9</td>\n",
       "        <td>Erika Strong</td>\n",
       "    </tr>\n",
       "    <tr>\n",
       "        <td>PRO11</td>\n",
       "        <td>Ella Rich</td>\n",
       "    </tr>\n",
       "</table>"
      ],
      "text/plain": [
       "[('PRO1', 'Glen Khan'),\n",
       " ('PRO2', 'Tom Moon'),\n",
       " ('PRO3', 'Oliver Page Productions'),\n",
       " ('PRO4', 'David Gordon'),\n",
       " ('PRO5', 'Maddox Strange'),\n",
       " ('PRO6', 'Denny Sterling'),\n",
       " ('PRO7', 'Brook Christy'),\n",
       " ('PRO8', 'Elizabeth Nelson'),\n",
       " ('PRO9', 'Erika Strong'),\n",
       " ('PRO11', 'Ella Rich')]"
      ]
     },
     "execution_count": 24,
     "metadata": {},
     "output_type": "execute_result"
    }
   ],
   "source": [
    "%%sql \n",
    "\n",
    "SELECT * FROM Producer;"
   ]
  },
  {
   "cell_type": "code",
   "execution_count": 25,
   "metadata": {},
   "outputs": [
    {
     "name": "stdout",
     "output_type": "stream",
     "text": [
      " * sqlite:///library.db\n",
      "10 rows affected.\n"
     ]
    },
    {
     "data": {
      "text/plain": [
       "[]"
      ]
     },
     "execution_count": 25,
     "metadata": {},
     "output_type": "execute_result"
    }
   ],
   "source": [
    "%%sql\n",
    "INSERT INTO Volunteer_options \n",
    "VALUES('Read with immigrants-Basic', 'Adult literacy tutoring','meet weekly with a group of immigrants and teach them to read in english. ',15),\n",
    "('Read with immigrants-Intermediate', 'Adult literacy tutoring','meet weekly with a group of immigrants and teach them to read in english',15),\n",
    "('Read with immigrants-Advanced', 'Adult literacy tutoring','meet weekly with a group of immigrants and teach them to read in english',15),\n",
    "('Fun with numbers-Basic', 'Adult numeracy tutoring','meet weekly with adults and teach them to arithmetic skills',10),\n",
    "('Fun with numbers-Intermediate', 'Adult numeracy tutoring','meet weekly with adults and teach them to arithmetic skills',10),\n",
    "('Fun with numbers-Advanced', 'Adult numeracy tutoring','meet weekly with adults and teach them to arithmetic skills',10),\n",
    "('Books for Seniors', 'Home deliver library materials','deliver books for seniors at their required destinations',5),\n",
    "('Books for Young', 'Home deliver library materials','deliver books for kids at their homes',10),\n",
    "('Youth Ambassador', 'Teen volunteers','Read a book every 2 weeks, write a review on it and share with peers',10),\n",
    "('Gardening', 'Others','Tend to the greenery around the library, performing tasks assigned by head gardener',5);"
   ]
  },
  {
   "cell_type": "code",
   "execution_count": 26,
   "metadata": {},
   "outputs": [
    {
     "name": "stdout",
     "output_type": "stream",
     "text": [
      " * sqlite:///library.db\n",
      "Done.\n"
     ]
    },
    {
     "data": {
      "text/html": [
       "<table>\n",
       "    <tr>\n",
       "        <th>vol_name</th>\n",
       "        <th>vol_type</th>\n",
       "        <th>activity_desc</th>\n",
       "        <th>hours_week</th>\n",
       "    </tr>\n",
       "    <tr>\n",
       "        <td>Read with immigrants-Basic</td>\n",
       "        <td>Adult literacy tutoring</td>\n",
       "        <td>meet weekly with a group of immigrants and teach them to read in english. </td>\n",
       "        <td>15</td>\n",
       "    </tr>\n",
       "    <tr>\n",
       "        <td>Read with immigrants-Intermediate</td>\n",
       "        <td>Adult literacy tutoring</td>\n",
       "        <td>meet weekly with a group of immigrants and teach them to read in english</td>\n",
       "        <td>15</td>\n",
       "    </tr>\n",
       "    <tr>\n",
       "        <td>Read with immigrants-Advanced</td>\n",
       "        <td>Adult literacy tutoring</td>\n",
       "        <td>meet weekly with a group of immigrants and teach them to read in english</td>\n",
       "        <td>15</td>\n",
       "    </tr>\n",
       "    <tr>\n",
       "        <td>Fun with numbers-Basic</td>\n",
       "        <td>Adult numeracy tutoring</td>\n",
       "        <td>meet weekly with adults and teach them to arithmetic skills</td>\n",
       "        <td>10</td>\n",
       "    </tr>\n",
       "    <tr>\n",
       "        <td>Fun with numbers-Intermediate</td>\n",
       "        <td>Adult numeracy tutoring</td>\n",
       "        <td>meet weekly with adults and teach them to arithmetic skills</td>\n",
       "        <td>10</td>\n",
       "    </tr>\n",
       "    <tr>\n",
       "        <td>Fun with numbers-Advanced</td>\n",
       "        <td>Adult numeracy tutoring</td>\n",
       "        <td>meet weekly with adults and teach them to arithmetic skills</td>\n",
       "        <td>10</td>\n",
       "    </tr>\n",
       "    <tr>\n",
       "        <td>Books for Seniors</td>\n",
       "        <td>Home deliver library materials</td>\n",
       "        <td>deliver books for seniors at their required destinations</td>\n",
       "        <td>5</td>\n",
       "    </tr>\n",
       "    <tr>\n",
       "        <td>Books for Young</td>\n",
       "        <td>Home deliver library materials</td>\n",
       "        <td>deliver books for kids at their homes</td>\n",
       "        <td>10</td>\n",
       "    </tr>\n",
       "    <tr>\n",
       "        <td>Youth Ambassador</td>\n",
       "        <td>Teen volunteers</td>\n",
       "        <td>Read a book every 2 weeks, write a review on it and share with peers</td>\n",
       "        <td>10</td>\n",
       "    </tr>\n",
       "    <tr>\n",
       "        <td>Gardening</td>\n",
       "        <td>Others</td>\n",
       "        <td>Tend to the greenery around the library, performing tasks assigned by head gardener</td>\n",
       "        <td>5</td>\n",
       "    </tr>\n",
       "</table>"
      ],
      "text/plain": [
       "[('Read with immigrants-Basic', 'Adult literacy tutoring', 'meet weekly with a group of immigrants and teach them to read in english. ', 15),\n",
       " ('Read with immigrants-Intermediate', 'Adult literacy tutoring', 'meet weekly with a group of immigrants and teach them to read in english', 15),\n",
       " ('Read with immigrants-Advanced', 'Adult literacy tutoring', 'meet weekly with a group of immigrants and teach them to read in english', 15),\n",
       " ('Fun with numbers-Basic', 'Adult numeracy tutoring', 'meet weekly with adults and teach them to arithmetic skills', 10),\n",
       " ('Fun with numbers-Intermediate', 'Adult numeracy tutoring', 'meet weekly with adults and teach them to arithmetic skills', 10),\n",
       " ('Fun with numbers-Advanced', 'Adult numeracy tutoring', 'meet weekly with adults and teach them to arithmetic skills', 10),\n",
       " ('Books for Seniors', 'Home deliver library materials', 'deliver books for seniors at their required destinations', 5),\n",
       " ('Books for Young', 'Home deliver library materials', 'deliver books for kids at their homes', 10),\n",
       " ('Youth Ambassador', 'Teen volunteers', 'Read a book every 2 weeks, write a review on it and share with peers', 10),\n",
       " ('Gardening', 'Others', 'Tend to the greenery around the library, performing tasks assigned by head gardener', 5)]"
      ]
     },
     "execution_count": 26,
     "metadata": {},
     "output_type": "execute_result"
    }
   ],
   "source": [
    "%%sql \n",
    "\n",
    "SELECT * FROM Volunteer_options;"
   ]
  },
  {
   "cell_type": "code",
   "execution_count": 27,
   "metadata": {},
   "outputs": [
    {
     "name": "stdout",
     "output_type": "stream",
     "text": [
      " * sqlite:///library.db\n",
      "10 rows affected.\n"
     ]
    },
    {
     "data": {
      "text/plain": [
       "[]"
      ]
     },
     "execution_count": 27,
     "metadata": {},
     "output_type": "execute_result"
    }
   ],
   "source": [
    "%%sql\n",
    "\n",
    "INSERT INTO Volunteer \n",
    "VALUES('Read with immigrants-Basic', '1'),\n",
    "('Fun with numbers-Advanced', '2'),\n",
    "('Fun with numbers-Basic', '3'),\n",
    "('Read with immigrants-Intermediate', '7'),\n",
    "('Youth Ambassador', '5'),\n",
    "('Books for Young', '2'),\n",
    "('Fun with numbers-Intermediate', '1'),\n",
    "('Books for Seniors', '4'),\n",
    "('Read with immigrants-Basic', '9'),\n",
    "('Gardening', '8');\n",
    "\n"
   ]
  },
  {
   "cell_type": "code",
   "execution_count": 28,
   "metadata": {},
   "outputs": [
    {
     "name": "stdout",
     "output_type": "stream",
     "text": [
      " * sqlite:///library.db\n",
      "Done.\n"
     ]
    },
    {
     "data": {
      "text/html": [
       "<table>\n",
       "    <tr>\n",
       "        <th>vol_name</th>\n",
       "        <th>person_id</th>\n",
       "    </tr>\n",
       "    <tr>\n",
       "        <td>Read with immigrants-Basic</td>\n",
       "        <td>1</td>\n",
       "    </tr>\n",
       "    <tr>\n",
       "        <td>Fun with numbers-Advanced</td>\n",
       "        <td>2</td>\n",
       "    </tr>\n",
       "    <tr>\n",
       "        <td>Fun with numbers-Basic</td>\n",
       "        <td>3</td>\n",
       "    </tr>\n",
       "    <tr>\n",
       "        <td>Read with immigrants-Intermediate</td>\n",
       "        <td>7</td>\n",
       "    </tr>\n",
       "    <tr>\n",
       "        <td>Youth Ambassador</td>\n",
       "        <td>5</td>\n",
       "    </tr>\n",
       "    <tr>\n",
       "        <td>Books for Young</td>\n",
       "        <td>2</td>\n",
       "    </tr>\n",
       "    <tr>\n",
       "        <td>Fun with numbers-Intermediate</td>\n",
       "        <td>1</td>\n",
       "    </tr>\n",
       "    <tr>\n",
       "        <td>Books for Seniors</td>\n",
       "        <td>4</td>\n",
       "    </tr>\n",
       "    <tr>\n",
       "        <td>Read with immigrants-Basic</td>\n",
       "        <td>9</td>\n",
       "    </tr>\n",
       "    <tr>\n",
       "        <td>Gardening</td>\n",
       "        <td>8</td>\n",
       "    </tr>\n",
       "</table>"
      ],
      "text/plain": [
       "[('Read with immigrants-Basic', '1'),\n",
       " ('Fun with numbers-Advanced', '2'),\n",
       " ('Fun with numbers-Basic', '3'),\n",
       " ('Read with immigrants-Intermediate', '7'),\n",
       " ('Youth Ambassador', '5'),\n",
       " ('Books for Young', '2'),\n",
       " ('Fun with numbers-Intermediate', '1'),\n",
       " ('Books for Seniors', '4'),\n",
       " ('Read with immigrants-Basic', '9'),\n",
       " ('Gardening', '8')]"
      ]
     },
     "execution_count": 28,
     "metadata": {},
     "output_type": "execute_result"
    }
   ],
   "source": [
    "%%sql \n",
    "\n",
    "SELECT * FROM Volunteer ;"
   ]
  },
  {
   "cell_type": "code",
   "execution_count": 29,
   "metadata": {},
   "outputs": [
    {
     "name": "stdout",
     "output_type": "stream",
     "text": [
      " * sqlite:///library.db\n",
      "10 rows affected.\n"
     ]
    },
    {
     "data": {
      "text/plain": [
       "[]"
      ]
     },
     "execution_count": 29,
     "metadata": {},
     "output_type": "execute_result"
    }
   ],
   "source": [
    "%%sql\n",
    "\n",
    "INSERT INTO Help\n",
    "VALUES (1,'Research/finding items','Help with finding articles for course SF233',1,'1'),\n",
    "(2,'Citation help','Help with checking citation on final paper',1,'2'),\n",
    "(3,'Research/finding items','Help with finding articles on gardening',0,'3'),\n",
    "(4,'Research/finding items','Help with finding articles on Rosa Parks',0,'4'),\n",
    "(5,'Research/finding items','Help with finding articles on JK Rowling',0,'15'),\n",
    "(6,'Writing help','Proofreading help on term paper',1,'4'),\n",
    "(7,'Research/finding items','Help with finding books to read in summer',0,'5'),\n",
    "(8,'Writing help','Brainstorm essay outline for course',1,'3'),\n",
    "(9,'Research/finding items','Help with finding books on machine learning',0,'11'),\n",
    "(10,'Research/finding items','Help with finding journals for BUS 322',1,'6');\n",
    "\n"
   ]
  },
  {
   "cell_type": "code",
   "execution_count": 30,
   "metadata": {},
   "outputs": [
    {
     "name": "stdout",
     "output_type": "stream",
     "text": [
      " * sqlite:///library.db\n",
      "Done.\n"
     ]
    },
    {
     "data": {
      "text/html": [
       "<table>\n",
       "    <tr>\n",
       "        <th>help_id</th>\n",
       "        <th>help_type</th>\n",
       "        <th>help_desc</th>\n",
       "        <th>is_urgent</th>\n",
       "        <th>person_id</th>\n",
       "    </tr>\n",
       "    <tr>\n",
       "        <td>1</td>\n",
       "        <td>Research/finding items</td>\n",
       "        <td>Help with finding articles for course SF233</td>\n",
       "        <td>1</td>\n",
       "        <td>1</td>\n",
       "    </tr>\n",
       "    <tr>\n",
       "        <td>2</td>\n",
       "        <td>Citation help</td>\n",
       "        <td>Help with checking citation on final paper</td>\n",
       "        <td>1</td>\n",
       "        <td>2</td>\n",
       "    </tr>\n",
       "    <tr>\n",
       "        <td>3</td>\n",
       "        <td>Research/finding items</td>\n",
       "        <td>Help with finding articles on gardening</td>\n",
       "        <td>0</td>\n",
       "        <td>3</td>\n",
       "    </tr>\n",
       "    <tr>\n",
       "        <td>4</td>\n",
       "        <td>Research/finding items</td>\n",
       "        <td>Help with finding articles on Rosa Parks</td>\n",
       "        <td>0</td>\n",
       "        <td>4</td>\n",
       "    </tr>\n",
       "    <tr>\n",
       "        <td>5</td>\n",
       "        <td>Research/finding items</td>\n",
       "        <td>Help with finding articles on JK Rowling</td>\n",
       "        <td>0</td>\n",
       "        <td>15</td>\n",
       "    </tr>\n",
       "    <tr>\n",
       "        <td>6</td>\n",
       "        <td>Writing help</td>\n",
       "        <td>Proofreading help on term paper</td>\n",
       "        <td>1</td>\n",
       "        <td>4</td>\n",
       "    </tr>\n",
       "    <tr>\n",
       "        <td>7</td>\n",
       "        <td>Research/finding items</td>\n",
       "        <td>Help with finding books to read in summer</td>\n",
       "        <td>0</td>\n",
       "        <td>5</td>\n",
       "    </tr>\n",
       "    <tr>\n",
       "        <td>8</td>\n",
       "        <td>Writing help</td>\n",
       "        <td>Brainstorm essay outline for course</td>\n",
       "        <td>1</td>\n",
       "        <td>3</td>\n",
       "    </tr>\n",
       "    <tr>\n",
       "        <td>9</td>\n",
       "        <td>Research/finding items</td>\n",
       "        <td>Help with finding books on machine learning</td>\n",
       "        <td>0</td>\n",
       "        <td>11</td>\n",
       "    </tr>\n",
       "    <tr>\n",
       "        <td>10</td>\n",
       "        <td>Research/finding items</td>\n",
       "        <td>Help with finding journals for BUS 322</td>\n",
       "        <td>1</td>\n",
       "        <td>6</td>\n",
       "    </tr>\n",
       "</table>"
      ],
      "text/plain": [
       "[(1, 'Research/finding items', 'Help with finding articles for course SF233', 1, '1'),\n",
       " (2, 'Citation help', 'Help with checking citation on final paper', 1, '2'),\n",
       " (3, 'Research/finding items', 'Help with finding articles on gardening', 0, '3'),\n",
       " (4, 'Research/finding items', 'Help with finding articles on Rosa Parks', 0, '4'),\n",
       " (5, 'Research/finding items', 'Help with finding articles on JK Rowling', 0, '15'),\n",
       " (6, 'Writing help', 'Proofreading help on term paper', 1, '4'),\n",
       " (7, 'Research/finding items', 'Help with finding books to read in summer', 0, '5'),\n",
       " (8, 'Writing help', 'Brainstorm essay outline for course', 1, '3'),\n",
       " (9, 'Research/finding items', 'Help with finding books on machine learning', 0, '11'),\n",
       " (10, 'Research/finding items', 'Help with finding journals for BUS 322', 1, '6')]"
      ]
     },
     "execution_count": 30,
     "metadata": {},
     "output_type": "execute_result"
    }
   ],
   "source": [
    "%%sql \n",
    "\n",
    "SELECT * FROM Help ;"
   ]
  },
  {
   "cell_type": "code",
   "execution_count": 31,
   "metadata": {},
   "outputs": [
    {
     "name": "stdout",
     "output_type": "stream",
     "text": [
      " * sqlite:///library.db\n",
      "10 rows affected.\n"
     ]
    },
    {
     "data": {
      "text/plain": [
       "[]"
      ]
     },
     "execution_count": 31,
     "metadata": {},
     "output_type": "execute_result"
    }
   ],
   "source": [
    "%%sql\n",
    "\n",
    "INSERT INTO Location \n",
    "VALUES(1,'R11'),\n",
    "(1,'R12'),\n",
    "(1,'R13'),\n",
    "(1,'R14'),\n",
    "(1,'R15'),\n",
    "(2,'R21'),\n",
    "(2,'R22'),\n",
    "(2,'R23'),\n",
    "(2,'R24'),\n",
    "(2,'R25');\n"
   ]
  },
  {
   "cell_type": "code",
   "execution_count": 32,
   "metadata": {},
   "outputs": [
    {
     "name": "stdout",
     "output_type": "stream",
     "text": [
      " * sqlite:///library.db\n",
      "Done.\n"
     ]
    },
    {
     "data": {
      "text/html": [
       "<table>\n",
       "    <tr>\n",
       "        <th>floor</th>\n",
       "        <th>room_number</th>\n",
       "    </tr>\n",
       "    <tr>\n",
       "        <td>1</td>\n",
       "        <td>R11</td>\n",
       "    </tr>\n",
       "    <tr>\n",
       "        <td>1</td>\n",
       "        <td>R12</td>\n",
       "    </tr>\n",
       "    <tr>\n",
       "        <td>1</td>\n",
       "        <td>R13</td>\n",
       "    </tr>\n",
       "    <tr>\n",
       "        <td>1</td>\n",
       "        <td>R14</td>\n",
       "    </tr>\n",
       "    <tr>\n",
       "        <td>1</td>\n",
       "        <td>R15</td>\n",
       "    </tr>\n",
       "    <tr>\n",
       "        <td>2</td>\n",
       "        <td>R21</td>\n",
       "    </tr>\n",
       "    <tr>\n",
       "        <td>2</td>\n",
       "        <td>R22</td>\n",
       "    </tr>\n",
       "    <tr>\n",
       "        <td>2</td>\n",
       "        <td>R23</td>\n",
       "    </tr>\n",
       "    <tr>\n",
       "        <td>2</td>\n",
       "        <td>R24</td>\n",
       "    </tr>\n",
       "    <tr>\n",
       "        <td>2</td>\n",
       "        <td>R25</td>\n",
       "    </tr>\n",
       "</table>"
      ],
      "text/plain": [
       "[(1, 'R11'),\n",
       " (1, 'R12'),\n",
       " (1, 'R13'),\n",
       " (1, 'R14'),\n",
       " (1, 'R15'),\n",
       " (2, 'R21'),\n",
       " (2, 'R22'),\n",
       " (2, 'R23'),\n",
       " (2, 'R24'),\n",
       " (2, 'R25')]"
      ]
     },
     "execution_count": 32,
     "metadata": {},
     "output_type": "execute_result"
    }
   ],
   "source": [
    "%%sql \n",
    "\n",
    "SELECT * FROM Location  ;"
   ]
  },
  {
   "cell_type": "code",
   "execution_count": 33,
   "metadata": {},
   "outputs": [
    {
     "name": "stdout",
     "output_type": "stream",
     "text": [
      " * sqlite:///library.db\n",
      "10 rows affected.\n"
     ]
    },
    {
     "data": {
      "text/plain": [
       "[]"
      ]
     },
     "execution_count": 33,
     "metadata": {},
     "output_type": "execute_result"
    }
   ],
   "source": [
    "%%sql\n",
    "\n",
    "INSERT INTO Event\n",
    "VALUES ('Book review of Amazing Amy', 'Book related events','Express and hear opinions on the book', '2020-06-01','05:00 PM','Everyone',1,'R11'),\n",
    "('Book review of Happy Housecat', 'Book related events','Express and hear opinions on the book', '2020-05-02','04:00 PM','Everyone',1,'R21'),\n",
    "('Book review of An Adventure City 3', 'Book related events','Express and hear opinions on the book', '2020-08-03','05:00 PM','Everyone',1,'R13'),\n",
    "('Gone with the wind', 'Film screenings','Watch the old classic movie with your family', '2020-11-04','03:00 PM','Everyone',0,'R11'),\n",
    "('Home Alone 1', 'Film screenings','Bring your kids to this family friendly movie', '2020-06-05','02:00 PM','Everyone',0,'R24'),\n",
    "('Hexagonals', 'Art shows','Mathematics in everyday life', '2020-07-06','09:00 PM','Everyone',0,'R23'),\n",
    "('Man and Machine', 'Art shows','Modern art show by upcoming artists', '2020-09-07','09:00 AM','Everyone',0,'R11'),\n",
    "('Writing Essays', 'Workshops','Will cover all ascepts of writing effective term papers', '2020-11-08','10:00 AM','Students',1,'R12'),\n",
    "('Meet and Greet with Library Personnel', 'Others','Get to know your library personnel', '2020-09-09','04:00 PM','Everyone',1,'R13'),\n",
    "('Community meet', ' Networking','Meet others, make friends', '2020-07-01','05:00 PM','Everyone',1,'R21');"
   ]
  },
  {
   "cell_type": "code",
   "execution_count": 34,
   "metadata": {},
   "outputs": [
    {
     "name": "stdout",
     "output_type": "stream",
     "text": [
      " * sqlite:///library.db\n",
      "Done.\n"
     ]
    },
    {
     "data": {
      "text/html": [
       "<table>\n",
       "    <tr>\n",
       "        <th>event_name</th>\n",
       "        <th>event_type</th>\n",
       "        <th>event_desc</th>\n",
       "        <th>date</th>\n",
       "        <th>time</th>\n",
       "        <th>audience</th>\n",
       "        <th>has_food</th>\n",
       "        <th>room_number</th>\n",
       "    </tr>\n",
       "    <tr>\n",
       "        <td>Book review of Amazing Amy</td>\n",
       "        <td>Book related events</td>\n",
       "        <td>Express and hear opinions on the book</td>\n",
       "        <td>2020-06-01</td>\n",
       "        <td>05:00 PM</td>\n",
       "        <td>Everyone</td>\n",
       "        <td>1</td>\n",
       "        <td>R11</td>\n",
       "    </tr>\n",
       "    <tr>\n",
       "        <td>Book review of Happy Housecat</td>\n",
       "        <td>Book related events</td>\n",
       "        <td>Express and hear opinions on the book</td>\n",
       "        <td>2020-05-02</td>\n",
       "        <td>04:00 PM</td>\n",
       "        <td>Everyone</td>\n",
       "        <td>1</td>\n",
       "        <td>R21</td>\n",
       "    </tr>\n",
       "    <tr>\n",
       "        <td>Book review of An Adventure City 3</td>\n",
       "        <td>Book related events</td>\n",
       "        <td>Express and hear opinions on the book</td>\n",
       "        <td>2020-08-03</td>\n",
       "        <td>05:00 PM</td>\n",
       "        <td>Everyone</td>\n",
       "        <td>1</td>\n",
       "        <td>R13</td>\n",
       "    </tr>\n",
       "    <tr>\n",
       "        <td>Gone with the wind</td>\n",
       "        <td>Film screenings</td>\n",
       "        <td>Watch the old classic movie with your family</td>\n",
       "        <td>2020-11-04</td>\n",
       "        <td>03:00 PM</td>\n",
       "        <td>Everyone</td>\n",
       "        <td>0</td>\n",
       "        <td>R11</td>\n",
       "    </tr>\n",
       "    <tr>\n",
       "        <td>Home Alone 1</td>\n",
       "        <td>Film screenings</td>\n",
       "        <td>Bring your kids to this family friendly movie</td>\n",
       "        <td>2020-06-05</td>\n",
       "        <td>02:00 PM</td>\n",
       "        <td>Everyone</td>\n",
       "        <td>0</td>\n",
       "        <td>R24</td>\n",
       "    </tr>\n",
       "    <tr>\n",
       "        <td>Hexagonals</td>\n",
       "        <td>Art shows</td>\n",
       "        <td>Mathematics in everyday life</td>\n",
       "        <td>2020-07-06</td>\n",
       "        <td>09:00 PM</td>\n",
       "        <td>Everyone</td>\n",
       "        <td>0</td>\n",
       "        <td>R23</td>\n",
       "    </tr>\n",
       "    <tr>\n",
       "        <td>Man and Machine</td>\n",
       "        <td>Art shows</td>\n",
       "        <td>Modern art show by upcoming artists</td>\n",
       "        <td>2020-09-07</td>\n",
       "        <td>09:00 AM</td>\n",
       "        <td>Everyone</td>\n",
       "        <td>0</td>\n",
       "        <td>R11</td>\n",
       "    </tr>\n",
       "    <tr>\n",
       "        <td>Writing Essays</td>\n",
       "        <td>Workshops</td>\n",
       "        <td>Will cover all ascepts of writing effective term papers</td>\n",
       "        <td>2020-11-08</td>\n",
       "        <td>10:00 AM</td>\n",
       "        <td>Students</td>\n",
       "        <td>1</td>\n",
       "        <td>R12</td>\n",
       "    </tr>\n",
       "    <tr>\n",
       "        <td>Meet and Greet with Library Personnel</td>\n",
       "        <td>Others</td>\n",
       "        <td>Get to know your library personnel</td>\n",
       "        <td>2020-09-09</td>\n",
       "        <td>04:00 PM</td>\n",
       "        <td>Everyone</td>\n",
       "        <td>1</td>\n",
       "        <td>R13</td>\n",
       "    </tr>\n",
       "    <tr>\n",
       "        <td>Community meet</td>\n",
       "        <td> Networking</td>\n",
       "        <td>Meet others, make friends</td>\n",
       "        <td>2020-07-01</td>\n",
       "        <td>05:00 PM</td>\n",
       "        <td>Everyone</td>\n",
       "        <td>1</td>\n",
       "        <td>R21</td>\n",
       "    </tr>\n",
       "</table>"
      ],
      "text/plain": [
       "[('Book review of Amazing Amy', 'Book related events', 'Express and hear opinions on the book', '2020-06-01', '05:00 PM', 'Everyone', 1, 'R11'),\n",
       " ('Book review of Happy Housecat', 'Book related events', 'Express and hear opinions on the book', '2020-05-02', '04:00 PM', 'Everyone', 1, 'R21'),\n",
       " ('Book review of An Adventure City 3', 'Book related events', 'Express and hear opinions on the book', '2020-08-03', '05:00 PM', 'Everyone', 1, 'R13'),\n",
       " ('Gone with the wind', 'Film screenings', 'Watch the old classic movie with your family', '2020-11-04', '03:00 PM', 'Everyone', 0, 'R11'),\n",
       " ('Home Alone 1', 'Film screenings', 'Bring your kids to this family friendly movie', '2020-06-05', '02:00 PM', 'Everyone', 0, 'R24'),\n",
       " ('Hexagonals', 'Art shows', 'Mathematics in everyday life', '2020-07-06', '09:00 PM', 'Everyone', 0, 'R23'),\n",
       " ('Man and Machine', 'Art shows', 'Modern art show by upcoming artists', '2020-09-07', '09:00 AM', 'Everyone', 0, 'R11'),\n",
       " ('Writing Essays', 'Workshops', 'Will cover all ascepts of writing effective term papers', '2020-11-08', '10:00 AM', 'Students', 1, 'R12'),\n",
       " ('Meet and Greet with Library Personnel', 'Others', 'Get to know your library personnel', '2020-09-09', '04:00 PM', 'Everyone', 1, 'R13'),\n",
       " ('Community meet', ' Networking', 'Meet others, make friends', '2020-07-01', '05:00 PM', 'Everyone', 1, 'R21')]"
      ]
     },
     "execution_count": 34,
     "metadata": {},
     "output_type": "execute_result"
    }
   ],
   "source": [
    "%%sql \n",
    "\n",
    "SELECT * FROM Event ;"
   ]
  },
  {
   "cell_type": "code",
   "execution_count": 35,
   "metadata": {
    "colab": {
     "base_uri": "https://localhost:8080/",
     "height": 255
    },
    "colab_type": "code",
    "executionInfo": {
     "elapsed": 467,
     "status": "ok",
     "timestamp": 1586287205878,
     "user": {
      "displayName": "Divya Thomas",
      "photoUrl": "",
      "userId": "03406556560689279233"
     },
     "user_tz": 420
    },
    "id": "sNIyIVZfPpU6",
    "outputId": "f70cd6e0-6060-4db0-9960-b6130404ca54"
   },
   "outputs": [
    {
     "name": "stdout",
     "output_type": "stream",
     "text": [
      " * sqlite:///library.db\n",
      "10 rows affected.\n"
     ]
    },
    {
     "data": {
      "text/plain": [
       "[]"
      ]
     },
     "execution_count": 35,
     "metadata": {},
     "output_type": "execute_result"
    }
   ],
   "source": [
    "%%sql\n",
    "\n",
    "INSERT INTO New_items\n",
    "VALUES (1,'Traitors With Money', 'Books-non fiction','1','Contemporary book on the biggest swindlers who got away with it', 'Excellent'),\n",
    "(2,'Swords Of The World', 'Books-non fiction','3','Book on different swords in the world', 'Fair'),\n",
    "(3,'Neighbor With Curly Hair', 'Books-fiction','4','book for kids-has pictures','Good'),\n",
    "(4,'Signs Of The Lakes', 'Books-non fiction','4','Romance Novel by Joseph Jackson', 'Excellent'),\n",
    "(5,'Enemies Without Limits', 'Books-fiction','5','Mystery Novel by Clare Winters', 'Poor'),\n",
    "(6,'Pure The World', 'Books-fiction','16','Novel by Tim Rogers', 'Excellent'),\n",
    "(7,'Rodents And Ancients', 'Books-non fiction','13','History of Rodents', 'Good'),\n",
    "(8,'Mystery Of The Galaxy', 'Books-non fiction','7','Book on Cosmos', 'Fair'),\n",
    "(9,'Advancement Of The Caves', 'Books-non fiction','9','History of caves around the world', 'Poor'),\n",
    "(10,'Flowers In Your Garden', 'Books-non fiction','5','Book on different flowers', 'Excellent');\n",
    "\n",
    "\n"
   ]
  },
  {
   "cell_type": "code",
   "execution_count": 36,
   "metadata": {},
   "outputs": [
    {
     "name": "stdout",
     "output_type": "stream",
     "text": [
      " * sqlite:///library.db\n",
      "Done.\n"
     ]
    },
    {
     "data": {
      "text/html": [
       "<table>\n",
       "    <tr>\n",
       "        <th>new_id</th>\n",
       "        <th>new_title</th>\n",
       "        <th>cat_name</th>\n",
       "        <th>person_id</th>\n",
       "        <th>desc</th>\n",
       "        <th>condition</th>\n",
       "    </tr>\n",
       "    <tr>\n",
       "        <td>1</td>\n",
       "        <td>Traitors With Money</td>\n",
       "        <td>Books-non fiction</td>\n",
       "        <td>1</td>\n",
       "        <td>Contemporary book on the biggest swindlers who got away with it</td>\n",
       "        <td>Excellent</td>\n",
       "    </tr>\n",
       "    <tr>\n",
       "        <td>2</td>\n",
       "        <td>Swords Of The World</td>\n",
       "        <td>Books-non fiction</td>\n",
       "        <td>3</td>\n",
       "        <td>Book on different swords in the world</td>\n",
       "        <td>Fair</td>\n",
       "    </tr>\n",
       "    <tr>\n",
       "        <td>3</td>\n",
       "        <td>Neighbor With Curly Hair</td>\n",
       "        <td>Books-fiction</td>\n",
       "        <td>4</td>\n",
       "        <td>book for kids-has pictures</td>\n",
       "        <td>Good</td>\n",
       "    </tr>\n",
       "    <tr>\n",
       "        <td>4</td>\n",
       "        <td>Signs Of The Lakes</td>\n",
       "        <td>Books-non fiction</td>\n",
       "        <td>4</td>\n",
       "        <td>Romance Novel by Joseph Jackson</td>\n",
       "        <td>Excellent</td>\n",
       "    </tr>\n",
       "    <tr>\n",
       "        <td>5</td>\n",
       "        <td>Enemies Without Limits</td>\n",
       "        <td>Books-fiction</td>\n",
       "        <td>5</td>\n",
       "        <td>Mystery Novel by Clare Winters</td>\n",
       "        <td>Poor</td>\n",
       "    </tr>\n",
       "    <tr>\n",
       "        <td>6</td>\n",
       "        <td>Pure The World</td>\n",
       "        <td>Books-fiction</td>\n",
       "        <td>16</td>\n",
       "        <td>Novel by Tim Rogers</td>\n",
       "        <td>Excellent</td>\n",
       "    </tr>\n",
       "    <tr>\n",
       "        <td>7</td>\n",
       "        <td>Rodents And Ancients</td>\n",
       "        <td>Books-non fiction</td>\n",
       "        <td>13</td>\n",
       "        <td>History of Rodents</td>\n",
       "        <td>Good</td>\n",
       "    </tr>\n",
       "    <tr>\n",
       "        <td>8</td>\n",
       "        <td>Mystery Of The Galaxy</td>\n",
       "        <td>Books-non fiction</td>\n",
       "        <td>7</td>\n",
       "        <td>Book on Cosmos</td>\n",
       "        <td>Fair</td>\n",
       "    </tr>\n",
       "    <tr>\n",
       "        <td>9</td>\n",
       "        <td>Advancement Of The Caves</td>\n",
       "        <td>Books-non fiction</td>\n",
       "        <td>9</td>\n",
       "        <td>History of caves around the world</td>\n",
       "        <td>Poor</td>\n",
       "    </tr>\n",
       "    <tr>\n",
       "        <td>10</td>\n",
       "        <td>Flowers In Your Garden</td>\n",
       "        <td>Books-non fiction</td>\n",
       "        <td>5</td>\n",
       "        <td>Book on different flowers</td>\n",
       "        <td>Excellent</td>\n",
       "    </tr>\n",
       "</table>"
      ],
      "text/plain": [
       "[(1, 'Traitors With Money', 'Books-non fiction', '1', 'Contemporary book on the biggest swindlers who got away with it', 'Excellent'),\n",
       " (2, 'Swords Of The World', 'Books-non fiction', '3', 'Book on different swords in the world', 'Fair'),\n",
       " (3, 'Neighbor With Curly Hair', 'Books-fiction', '4', 'book for kids-has pictures', 'Good'),\n",
       " (4, 'Signs Of The Lakes', 'Books-non fiction', '4', 'Romance Novel by Joseph Jackson', 'Excellent'),\n",
       " (5, 'Enemies Without Limits', 'Books-fiction', '5', 'Mystery Novel by Clare Winters', 'Poor'),\n",
       " (6, 'Pure The World', 'Books-fiction', '16', 'Novel by Tim Rogers', 'Excellent'),\n",
       " (7, 'Rodents And Ancients', 'Books-non fiction', '13', 'History of Rodents', 'Good'),\n",
       " (8, 'Mystery Of The Galaxy', 'Books-non fiction', '7', 'Book on Cosmos', 'Fair'),\n",
       " (9, 'Advancement Of The Caves', 'Books-non fiction', '9', 'History of caves around the world', 'Poor'),\n",
       " (10, 'Flowers In Your Garden', 'Books-non fiction', '5', 'Book on different flowers', 'Excellent')]"
      ]
     },
     "execution_count": 36,
     "metadata": {},
     "output_type": "execute_result"
    }
   ],
   "source": [
    "%%sql \n",
    "\n",
    "SELECT * FROM New_items ;"
   ]
  },
  {
   "cell_type": "code",
   "execution_count": 37,
   "metadata": {
    "colab": {
     "base_uri": "https://localhost:8080/",
     "height": 88
    },
    "colab_type": "code",
    "executionInfo": {
     "elapsed": 1027,
     "status": "ok",
     "timestamp": 1586274251169,
     "user": {
      "displayName": "Maggie Xu",
      "photoUrl": "https://lh5.googleusercontent.com/-zJOrSEiKgYQ/AAAAAAAAAAI/AAAAAAAAAV8/DqAuQcf5CJQ/s64/photo.jpg",
      "userId": "04515744612811211407"
     },
     "user_tz": 420
    },
    "id": "t_v1HDeePpU-",
    "outputId": "19402290-d203-4cf0-83ea-b9c8fa69bee8"
   },
   "outputs": [
    {
     "name": "stdout",
     "output_type": "stream",
     "text": [
      " * sqlite:///library.db\n",
      "10 rows affected.\n"
     ]
    },
    {
     "data": {
      "text/plain": [
       "[]"
      ]
     },
     "execution_count": 37,
     "metadata": {},
     "output_type": "execute_result"
    }
   ],
   "source": [
    "%%sql\n",
    "INSERT INTO Organizer\n",
    "VALUES('Elize Barrymore','daveed@me.com'),\n",
    "('Leigh Shepherd','bwcarty@yahoo.ca'),\n",
    "('Ashley Walker','lstaf@mac.com'),\n",
    "('Ricky Blake','ournews@yahoo.ca'),\n",
    "('Edgar Bones','dbindel@verizon.net'),\n",
    "('Jamie Gates','hllam@optonline.net'),\n",
    "('David Marsh','rsteiner@optonline.net'),\n",
    "('Maria Rider','mgreen@sbcglobal.net'),\n",
    "('Alexis Thomas','hoangle@gmail.com'),\n",
    "('Lily Reign','psichel@me.com');\n",
    "\n"
   ]
  },
  {
   "cell_type": "code",
   "execution_count": 38,
   "metadata": {},
   "outputs": [
    {
     "name": "stdout",
     "output_type": "stream",
     "text": [
      " * sqlite:///library.db\n",
      "Done.\n"
     ]
    },
    {
     "data": {
      "text/html": [
       "<table>\n",
       "    <tr>\n",
       "        <th>organizer_name</th>\n",
       "        <th>organizer_email</th>\n",
       "    </tr>\n",
       "    <tr>\n",
       "        <td>Elize Barrymore</td>\n",
       "        <td>daveed@me.com</td>\n",
       "    </tr>\n",
       "    <tr>\n",
       "        <td>Leigh Shepherd</td>\n",
       "        <td>bwcarty@yahoo.ca</td>\n",
       "    </tr>\n",
       "    <tr>\n",
       "        <td>Ashley Walker</td>\n",
       "        <td>lstaf@mac.com</td>\n",
       "    </tr>\n",
       "    <tr>\n",
       "        <td>Ricky Blake</td>\n",
       "        <td>ournews@yahoo.ca</td>\n",
       "    </tr>\n",
       "    <tr>\n",
       "        <td>Edgar Bones</td>\n",
       "        <td>dbindel@verizon.net</td>\n",
       "    </tr>\n",
       "    <tr>\n",
       "        <td>Jamie Gates</td>\n",
       "        <td>hllam@optonline.net</td>\n",
       "    </tr>\n",
       "    <tr>\n",
       "        <td>David Marsh</td>\n",
       "        <td>rsteiner@optonline.net</td>\n",
       "    </tr>\n",
       "    <tr>\n",
       "        <td>Maria Rider</td>\n",
       "        <td>mgreen@sbcglobal.net</td>\n",
       "    </tr>\n",
       "    <tr>\n",
       "        <td>Alexis Thomas</td>\n",
       "        <td>hoangle@gmail.com</td>\n",
       "    </tr>\n",
       "    <tr>\n",
       "        <td>Lily Reign</td>\n",
       "        <td>psichel@me.com</td>\n",
       "    </tr>\n",
       "</table>"
      ],
      "text/plain": [
       "[('Elize Barrymore', 'daveed@me.com'),\n",
       " ('Leigh Shepherd', 'bwcarty@yahoo.ca'),\n",
       " ('Ashley Walker', 'lstaf@mac.com'),\n",
       " ('Ricky Blake', 'ournews@yahoo.ca'),\n",
       " ('Edgar Bones', 'dbindel@verizon.net'),\n",
       " ('Jamie Gates', 'hllam@optonline.net'),\n",
       " ('David Marsh', 'rsteiner@optonline.net'),\n",
       " ('Maria Rider', 'mgreen@sbcglobal.net'),\n",
       " ('Alexis Thomas', 'hoangle@gmail.com'),\n",
       " ('Lily Reign', 'psichel@me.com')]"
      ]
     },
     "execution_count": 38,
     "metadata": {},
     "output_type": "execute_result"
    }
   ],
   "source": [
    "%%sql \n",
    "\n",
    "SELECT * FROM Organizer ;"
   ]
  },
  {
   "cell_type": "code",
   "execution_count": 39,
   "metadata": {},
   "outputs": [
    {
     "name": "stdout",
     "output_type": "stream",
     "text": [
      " * sqlite:///library.db\n",
      "10 rows affected.\n"
     ]
    },
    {
     "data": {
      "text/plain": [
       "[]"
      ]
     },
     "execution_count": 39,
     "metadata": {},
     "output_type": "execute_result"
    }
   ],
   "source": [
    "%%sql\n",
    "INSERT INTO Register\n",
    "VALUES  ('Book review of Amazing Amy', '1'),\n",
    "('Book review of Happy Housecat', '2'),\n",
    "('Book review of An Adventure City 3', '3'),\n",
    "('Gone with the wind', '12'),\n",
    "('Home Alone 1', '11'),\n",
    "('Hexagonals', '13'),\n",
    "('Man and Machine', '5'),\n",
    "('Writing Essays', '7'),\n",
    "('Meet and Greet with Library Personnel','5'),\n",
    "('Community meet', '6');"
   ]
  },
  {
   "cell_type": "code",
   "execution_count": 40,
   "metadata": {},
   "outputs": [
    {
     "name": "stdout",
     "output_type": "stream",
     "text": [
      " * sqlite:///library.db\n",
      "Done.\n"
     ]
    },
    {
     "data": {
      "text/html": [
       "<table>\n",
       "    <tr>\n",
       "        <th>event_name</th>\n",
       "        <th>person_id</th>\n",
       "    </tr>\n",
       "    <tr>\n",
       "        <td>Book review of Amazing Amy</td>\n",
       "        <td>1</td>\n",
       "    </tr>\n",
       "    <tr>\n",
       "        <td>Book review of Happy Housecat</td>\n",
       "        <td>2</td>\n",
       "    </tr>\n",
       "    <tr>\n",
       "        <td>Book review of An Adventure City 3</td>\n",
       "        <td>3</td>\n",
       "    </tr>\n",
       "    <tr>\n",
       "        <td>Gone with the wind</td>\n",
       "        <td>12</td>\n",
       "    </tr>\n",
       "    <tr>\n",
       "        <td>Home Alone 1</td>\n",
       "        <td>11</td>\n",
       "    </tr>\n",
       "    <tr>\n",
       "        <td>Hexagonals</td>\n",
       "        <td>13</td>\n",
       "    </tr>\n",
       "    <tr>\n",
       "        <td>Man and Machine</td>\n",
       "        <td>5</td>\n",
       "    </tr>\n",
       "    <tr>\n",
       "        <td>Writing Essays</td>\n",
       "        <td>7</td>\n",
       "    </tr>\n",
       "    <tr>\n",
       "        <td>Meet and Greet with Library Personnel</td>\n",
       "        <td>5</td>\n",
       "    </tr>\n",
       "    <tr>\n",
       "        <td>Community meet</td>\n",
       "        <td>6</td>\n",
       "    </tr>\n",
       "</table>"
      ],
      "text/plain": [
       "[('Book review of Amazing Amy', '1'),\n",
       " ('Book review of Happy Housecat', '2'),\n",
       " ('Book review of An Adventure City 3', '3'),\n",
       " ('Gone with the wind', '12'),\n",
       " ('Home Alone 1', '11'),\n",
       " ('Hexagonals', '13'),\n",
       " ('Man and Machine', '5'),\n",
       " ('Writing Essays', '7'),\n",
       " ('Meet and Greet with Library Personnel', '5'),\n",
       " ('Community meet', '6')]"
      ]
     },
     "execution_count": 40,
     "metadata": {},
     "output_type": "execute_result"
    }
   ],
   "source": [
    "%%sql \n",
    "\n",
    "SELECT * FROM Register ;"
   ]
  },
  {
   "cell_type": "code",
   "execution_count": 41,
   "metadata": {},
   "outputs": [
    {
     "name": "stdout",
     "output_type": "stream",
     "text": [
      " * sqlite:///library.db\n",
      "10 rows affected.\n"
     ]
    },
    {
     "data": {
      "text/plain": [
       "[]"
      ]
     },
     "execution_count": 41,
     "metadata": {},
     "output_type": "execute_result"
    }
   ],
   "source": [
    "%%sql\n",
    "INSERT INTO Fines_on\n",
    "VALUES ('B1','3','2018-01-02','2.0','2.0'),\n",
    "('A1','2','2019-12-02','4.0','15.0'),\n",
    "('B3','1','2017-06-02','2.0','2.0'),\n",
    "('P2','13','2018-04-02','10.0','10.0'),\n",
    "('A1','6','2019-11-02','4.0','0.0'),\n",
    "('B1','7','2018-03-02','6.0','6.0'),\n",
    "('A7','3','2020-01-02','8.0','0.0'),\n",
    "('B1','8','2019-03-02','2.0','2.0'),\n",
    "('B6','4','2017-05-02','5.0','5.0'),\n",
    "('P7','9','2020-02-11','2.0','0.0');"
   ]
  },
  {
   "cell_type": "code",
   "execution_count": 42,
   "metadata": {},
   "outputs": [
    {
     "name": "stdout",
     "output_type": "stream",
     "text": [
      " * sqlite:///library.db\n",
      "Done.\n"
     ]
    },
    {
     "data": {
      "text/html": [
       "<table>\n",
       "    <tr>\n",
       "        <th>item_id</th>\n",
       "        <th>person_id</th>\n",
       "        <th>fine_date</th>\n",
       "        <th>fine_amount</th>\n",
       "        <th>fine_payed</th>\n",
       "    </tr>\n",
       "    <tr>\n",
       "        <td>B1</td>\n",
       "        <td>3</td>\n",
       "        <td>2018-01-02</td>\n",
       "        <td>2.0</td>\n",
       "        <td>2.0</td>\n",
       "    </tr>\n",
       "    <tr>\n",
       "        <td>A1</td>\n",
       "        <td>2</td>\n",
       "        <td>2019-12-02</td>\n",
       "        <td>4.0</td>\n",
       "        <td>15.0</td>\n",
       "    </tr>\n",
       "    <tr>\n",
       "        <td>B3</td>\n",
       "        <td>1</td>\n",
       "        <td>2017-06-02</td>\n",
       "        <td>2.0</td>\n",
       "        <td>2.0</td>\n",
       "    </tr>\n",
       "    <tr>\n",
       "        <td>P2</td>\n",
       "        <td>13</td>\n",
       "        <td>2018-04-02</td>\n",
       "        <td>10.0</td>\n",
       "        <td>10.0</td>\n",
       "    </tr>\n",
       "    <tr>\n",
       "        <td>A1</td>\n",
       "        <td>6</td>\n",
       "        <td>2019-11-02</td>\n",
       "        <td>4.0</td>\n",
       "        <td>0.0</td>\n",
       "    </tr>\n",
       "    <tr>\n",
       "        <td>B1</td>\n",
       "        <td>7</td>\n",
       "        <td>2018-03-02</td>\n",
       "        <td>6.0</td>\n",
       "        <td>6.0</td>\n",
       "    </tr>\n",
       "    <tr>\n",
       "        <td>A7</td>\n",
       "        <td>3</td>\n",
       "        <td>2020-01-02</td>\n",
       "        <td>8.0</td>\n",
       "        <td>0.0</td>\n",
       "    </tr>\n",
       "    <tr>\n",
       "        <td>B1</td>\n",
       "        <td>8</td>\n",
       "        <td>2019-03-02</td>\n",
       "        <td>2.0</td>\n",
       "        <td>2.0</td>\n",
       "    </tr>\n",
       "    <tr>\n",
       "        <td>B6</td>\n",
       "        <td>4</td>\n",
       "        <td>2017-05-02</td>\n",
       "        <td>5.0</td>\n",
       "        <td>5.0</td>\n",
       "    </tr>\n",
       "    <tr>\n",
       "        <td>P7</td>\n",
       "        <td>9</td>\n",
       "        <td>2020-02-11</td>\n",
       "        <td>2.0</td>\n",
       "        <td>0.0</td>\n",
       "    </tr>\n",
       "</table>"
      ],
      "text/plain": [
       "[('B1', '3', '2018-01-02', 2.0, 2.0),\n",
       " ('A1', '2', '2019-12-02', 4.0, 15.0),\n",
       " ('B3', '1', '2017-06-02', 2.0, 2.0),\n",
       " ('P2', '13', '2018-04-02', 10.0, 10.0),\n",
       " ('A1', '6', '2019-11-02', 4.0, 0.0),\n",
       " ('B1', '7', '2018-03-02', 6.0, 6.0),\n",
       " ('A7', '3', '2020-01-02', 8.0, 0.0),\n",
       " ('B1', '8', '2019-03-02', 2.0, 2.0),\n",
       " ('B6', '4', '2017-05-02', 5.0, 5.0),\n",
       " ('P7', '9', '2020-02-11', 2.0, 0.0)]"
      ]
     },
     "execution_count": 42,
     "metadata": {},
     "output_type": "execute_result"
    }
   ],
   "source": [
    "%%sql \n",
    "\n",
    "SELECT * FROM Fines_on ;"
   ]
  },
  {
   "cell_type": "code",
   "execution_count": 43,
   "metadata": {},
   "outputs": [
    {
     "name": "stdout",
     "output_type": "stream",
     "text": [
      " * sqlite:///library.db\n",
      "10 rows affected.\n"
     ]
    },
    {
     "data": {
      "text/plain": [
       "[]"
      ]
     },
     "execution_count": 43,
     "metadata": {},
     "output_type": "execute_result"
    }
   ],
   "source": [
    "%%sql\n",
    "INSERT INTO items_of_author\n",
    "VALUES ('AU1','B1'),\n",
    "('AU2','B2'),\n",
    "('AU3','B3'),\n",
    "('AU4','B4'),\n",
    "('AU5','B5'),\n",
    "('AU6','B6'),\n",
    "('AU7','B7'),\n",
    "('AU8','B8'),\n",
    "('AU9','B9'),\n",
    "('AU10','B11');"
   ]
  },
  {
   "cell_type": "code",
   "execution_count": 44,
   "metadata": {},
   "outputs": [
    {
     "name": "stdout",
     "output_type": "stream",
     "text": [
      " * sqlite:///library.db\n",
      "Done.\n"
     ]
    },
    {
     "data": {
      "text/html": [
       "<table>\n",
       "    <tr>\n",
       "        <th>author_id</th>\n",
       "        <th>item_id</th>\n",
       "    </tr>\n",
       "    <tr>\n",
       "        <td>AU1</td>\n",
       "        <td>B1</td>\n",
       "    </tr>\n",
       "    <tr>\n",
       "        <td>AU2</td>\n",
       "        <td>B2</td>\n",
       "    </tr>\n",
       "    <tr>\n",
       "        <td>AU3</td>\n",
       "        <td>B3</td>\n",
       "    </tr>\n",
       "    <tr>\n",
       "        <td>AU4</td>\n",
       "        <td>B4</td>\n",
       "    </tr>\n",
       "    <tr>\n",
       "        <td>AU5</td>\n",
       "        <td>B5</td>\n",
       "    </tr>\n",
       "    <tr>\n",
       "        <td>AU6</td>\n",
       "        <td>B6</td>\n",
       "    </tr>\n",
       "    <tr>\n",
       "        <td>AU7</td>\n",
       "        <td>B7</td>\n",
       "    </tr>\n",
       "    <tr>\n",
       "        <td>AU8</td>\n",
       "        <td>B8</td>\n",
       "    </tr>\n",
       "    <tr>\n",
       "        <td>AU9</td>\n",
       "        <td>B9</td>\n",
       "    </tr>\n",
       "    <tr>\n",
       "        <td>AU10</td>\n",
       "        <td>B11</td>\n",
       "    </tr>\n",
       "</table>"
      ],
      "text/plain": [
       "[('AU1', 'B1'),\n",
       " ('AU2', 'B2'),\n",
       " ('AU3', 'B3'),\n",
       " ('AU4', 'B4'),\n",
       " ('AU5', 'B5'),\n",
       " ('AU6', 'B6'),\n",
       " ('AU7', 'B7'),\n",
       " ('AU8', 'B8'),\n",
       " ('AU9', 'B9'),\n",
       " ('AU10', 'B11')]"
      ]
     },
     "execution_count": 44,
     "metadata": {},
     "output_type": "execute_result"
    }
   ],
   "source": [
    "%%sql \n",
    "\n",
    "SELECT * FROM items_of_author ;"
   ]
  },
  {
   "cell_type": "code",
   "execution_count": 45,
   "metadata": {},
   "outputs": [
    {
     "name": "stdout",
     "output_type": "stream",
     "text": [
      " * sqlite:///library.db\n",
      "10 rows affected.\n"
     ]
    },
    {
     "data": {
      "text/plain": [
       "[]"
      ]
     },
     "execution_count": 45,
     "metadata": {},
     "output_type": "execute_result"
    }
   ],
   "source": [
    "%%sql\n",
    "INSERT INTO Items_of_Publisher\n",
    "VALUES ('PU1','P1'),\n",
    "('PU2','P2'),\n",
    "('PU3','P3'),\n",
    "('PU4','P4'),\n",
    "('PU5','P5'),\n",
    "('PU6','P6'),\n",
    "('PU7','P7'),\n",
    "('PU8','P8'),\n",
    "('PU9','P9'),\n",
    "('PU11','P11');"
   ]
  },
  {
   "cell_type": "code",
   "execution_count": 46,
   "metadata": {},
   "outputs": [
    {
     "name": "stdout",
     "output_type": "stream",
     "text": [
      " * sqlite:///library.db\n",
      "Done.\n"
     ]
    },
    {
     "data": {
      "text/html": [
       "<table>\n",
       "    <tr>\n",
       "        <th>publisher_id</th>\n",
       "        <th>item_id</th>\n",
       "    </tr>\n",
       "    <tr>\n",
       "        <td>PU1</td>\n",
       "        <td>P1</td>\n",
       "    </tr>\n",
       "    <tr>\n",
       "        <td>PU2</td>\n",
       "        <td>P2</td>\n",
       "    </tr>\n",
       "    <tr>\n",
       "        <td>PU3</td>\n",
       "        <td>P3</td>\n",
       "    </tr>\n",
       "    <tr>\n",
       "        <td>PU4</td>\n",
       "        <td>P4</td>\n",
       "    </tr>\n",
       "    <tr>\n",
       "        <td>PU5</td>\n",
       "        <td>P5</td>\n",
       "    </tr>\n",
       "    <tr>\n",
       "        <td>PU6</td>\n",
       "        <td>P6</td>\n",
       "    </tr>\n",
       "    <tr>\n",
       "        <td>PU7</td>\n",
       "        <td>P7</td>\n",
       "    </tr>\n",
       "    <tr>\n",
       "        <td>PU8</td>\n",
       "        <td>P8</td>\n",
       "    </tr>\n",
       "    <tr>\n",
       "        <td>PU9</td>\n",
       "        <td>P9</td>\n",
       "    </tr>\n",
       "    <tr>\n",
       "        <td>PU11</td>\n",
       "        <td>P11</td>\n",
       "    </tr>\n",
       "</table>"
      ],
      "text/plain": [
       "[('PU1', 'P1'),\n",
       " ('PU2', 'P2'),\n",
       " ('PU3', 'P3'),\n",
       " ('PU4', 'P4'),\n",
       " ('PU5', 'P5'),\n",
       " ('PU6', 'P6'),\n",
       " ('PU7', 'P7'),\n",
       " ('PU8', 'P8'),\n",
       " ('PU9', 'P9'),\n",
       " ('PU11', 'P11')]"
      ]
     },
     "execution_count": 46,
     "metadata": {},
     "output_type": "execute_result"
    }
   ],
   "source": [
    "%%sql \n",
    "\n",
    "SELECT * FROM Items_of_Publisher ;"
   ]
  },
  {
   "cell_type": "code",
   "execution_count": 47,
   "metadata": {},
   "outputs": [
    {
     "name": "stdout",
     "output_type": "stream",
     "text": [
      " * sqlite:///library.db\n",
      "10 rows affected.\n"
     ]
    },
    {
     "data": {
      "text/plain": [
       "[]"
      ]
     },
     "execution_count": 47,
     "metadata": {},
     "output_type": "execute_result"
    }
   ],
   "source": [
    "%%sql\n",
    "INSERT INTO Items_of_Producer\n",
    "VALUES ('PRO1','A1'),\n",
    "('PRO2','A2'),\n",
    "('PRO3','A3'),\n",
    "('PRO4','A4'),\n",
    "('PRO5','A5'),\n",
    "('PRO6','A6'),\n",
    "('PRO7','A7'),\n",
    "('PRO8','A8'),\n",
    "('PRO9','A9'),\n",
    "('PRO11','A11');"
   ]
  },
  {
   "cell_type": "code",
   "execution_count": 48,
   "metadata": {},
   "outputs": [
    {
     "name": "stdout",
     "output_type": "stream",
     "text": [
      " * sqlite:///library.db\n",
      "Done.\n"
     ]
    },
    {
     "data": {
      "text/html": [
       "<table>\n",
       "    <tr>\n",
       "        <th>producer_id</th>\n",
       "        <th>item_id</th>\n",
       "    </tr>\n",
       "    <tr>\n",
       "        <td>PRO1</td>\n",
       "        <td>A1</td>\n",
       "    </tr>\n",
       "    <tr>\n",
       "        <td>PRO2</td>\n",
       "        <td>A2</td>\n",
       "    </tr>\n",
       "    <tr>\n",
       "        <td>PRO3</td>\n",
       "        <td>A3</td>\n",
       "    </tr>\n",
       "    <tr>\n",
       "        <td>PRO4</td>\n",
       "        <td>A4</td>\n",
       "    </tr>\n",
       "    <tr>\n",
       "        <td>PRO5</td>\n",
       "        <td>A5</td>\n",
       "    </tr>\n",
       "    <tr>\n",
       "        <td>PRO6</td>\n",
       "        <td>A6</td>\n",
       "    </tr>\n",
       "    <tr>\n",
       "        <td>PRO7</td>\n",
       "        <td>A7</td>\n",
       "    </tr>\n",
       "    <tr>\n",
       "        <td>PRO8</td>\n",
       "        <td>A8</td>\n",
       "    </tr>\n",
       "    <tr>\n",
       "        <td>PRO9</td>\n",
       "        <td>A9</td>\n",
       "    </tr>\n",
       "    <tr>\n",
       "        <td>PRO11</td>\n",
       "        <td>A11</td>\n",
       "    </tr>\n",
       "</table>"
      ],
      "text/plain": [
       "[('PRO1', 'A1'),\n",
       " ('PRO2', 'A2'),\n",
       " ('PRO3', 'A3'),\n",
       " ('PRO4', 'A4'),\n",
       " ('PRO5', 'A5'),\n",
       " ('PRO6', 'A6'),\n",
       " ('PRO7', 'A7'),\n",
       " ('PRO8', 'A8'),\n",
       " ('PRO9', 'A9'),\n",
       " ('PRO11', 'A11')]"
      ]
     },
     "execution_count": 48,
     "metadata": {},
     "output_type": "execute_result"
    }
   ],
   "source": [
    "%%sql \n",
    "\n",
    "SELECT * FROM Items_of_Producer ;"
   ]
  },
  {
   "cell_type": "code",
   "execution_count": 49,
   "metadata": {},
   "outputs": [
    {
     "name": "stdout",
     "output_type": "stream",
     "text": [
      " * sqlite:///library.db\n",
      "10 rows affected.\n"
     ]
    },
    {
     "data": {
      "text/plain": [
       "[]"
      ]
     },
     "execution_count": 49,
     "metadata": {},
     "output_type": "execute_result"
    }
   ],
   "source": [
    "%%sql\n",
    "INSERT INTO Items_of_Artist\n",
    "VALUES ('ART1','A1'),\n",
    "('ART2','A2'),\n",
    "('ART3','A3'),\n",
    "('ART4','A4'),\n",
    "('ART5','A5'),\n",
    "('ART6','A6'),\n",
    "('ART7','A7'),\n",
    "('ART8','A8'),\n",
    "('ART9','A9'),\n",
    "('ART11','A11');"
   ]
  },
  {
   "cell_type": "code",
   "execution_count": 50,
   "metadata": {},
   "outputs": [
    {
     "name": "stdout",
     "output_type": "stream",
     "text": [
      " * sqlite:///library.db\n",
      "Done.\n"
     ]
    },
    {
     "data": {
      "text/html": [
       "<table>\n",
       "    <tr>\n",
       "        <th>artist_id</th>\n",
       "        <th>item_id</th>\n",
       "    </tr>\n",
       "    <tr>\n",
       "        <td>ART1</td>\n",
       "        <td>A1</td>\n",
       "    </tr>\n",
       "    <tr>\n",
       "        <td>ART2</td>\n",
       "        <td>A2</td>\n",
       "    </tr>\n",
       "    <tr>\n",
       "        <td>ART3</td>\n",
       "        <td>A3</td>\n",
       "    </tr>\n",
       "    <tr>\n",
       "        <td>ART4</td>\n",
       "        <td>A4</td>\n",
       "    </tr>\n",
       "    <tr>\n",
       "        <td>ART5</td>\n",
       "        <td>A5</td>\n",
       "    </tr>\n",
       "    <tr>\n",
       "        <td>ART6</td>\n",
       "        <td>A6</td>\n",
       "    </tr>\n",
       "    <tr>\n",
       "        <td>ART7</td>\n",
       "        <td>A7</td>\n",
       "    </tr>\n",
       "    <tr>\n",
       "        <td>ART8</td>\n",
       "        <td>A8</td>\n",
       "    </tr>\n",
       "    <tr>\n",
       "        <td>ART9</td>\n",
       "        <td>A9</td>\n",
       "    </tr>\n",
       "    <tr>\n",
       "        <td>ART11</td>\n",
       "        <td>A11</td>\n",
       "    </tr>\n",
       "</table>"
      ],
      "text/plain": [
       "[('ART1', 'A1'),\n",
       " ('ART2', 'A2'),\n",
       " ('ART3', 'A3'),\n",
       " ('ART4', 'A4'),\n",
       " ('ART5', 'A5'),\n",
       " ('ART6', 'A6'),\n",
       " ('ART7', 'A7'),\n",
       " ('ART8', 'A8'),\n",
       " ('ART9', 'A9'),\n",
       " ('ART11', 'A11')]"
      ]
     },
     "execution_count": 50,
     "metadata": {},
     "output_type": "execute_result"
    }
   ],
   "source": [
    "%%sql \n",
    "\n",
    "SELECT * FROM Items_of_Artist ;"
   ]
  },
  {
   "cell_type": "code",
   "execution_count": 51,
   "metadata": {},
   "outputs": [
    {
     "name": "stdout",
     "output_type": "stream",
     "text": [
      " * sqlite:///library.db\n",
      "10 rows affected.\n"
     ]
    },
    {
     "data": {
      "text/plain": [
       "[]"
      ]
     },
     "execution_count": 51,
     "metadata": {},
     "output_type": "execute_result"
    }
   ],
   "source": [
    "%%sql\n",
    "INSERT INTO Event_by_Organizer\n",
    "VALUES ('daveed@me.com','Book review of Amazing Amy'),\n",
    "('bwcarty@yahoo.ca','Book review of Happy Housecat'),\n",
    "('lstaf@mac.com','Book review of An Adventure City 3'),\n",
    "('ournews@yahoo.ca', 'Gone with the wind'),\n",
    "('dbindel@verizon.net','Home Alone 1'),\n",
    "('hllam@optonline.net','Hexagonals'),\n",
    "('rsteiner@optonline.net','Man and Machine'),\n",
    "('mgreen@sbcglobal.net','Writing Essays'),\n",
    "('hoangle@gmail.com','Meet and Greet with Library Personnel'),\n",
    "('psichel@me.com','Community meet');\n",
    "\n"
   ]
  },
  {
   "cell_type": "code",
   "execution_count": 52,
   "metadata": {},
   "outputs": [
    {
     "name": "stdout",
     "output_type": "stream",
     "text": [
      " * sqlite:///library.db\n",
      "Done.\n"
     ]
    },
    {
     "data": {
      "text/html": [
       "<table>\n",
       "    <tr>\n",
       "        <th>organizer_email</th>\n",
       "        <th>event_name</th>\n",
       "    </tr>\n",
       "    <tr>\n",
       "        <td>daveed@me.com</td>\n",
       "        <td>Book review of Amazing Amy</td>\n",
       "    </tr>\n",
       "    <tr>\n",
       "        <td>bwcarty@yahoo.ca</td>\n",
       "        <td>Book review of Happy Housecat</td>\n",
       "    </tr>\n",
       "    <tr>\n",
       "        <td>lstaf@mac.com</td>\n",
       "        <td>Book review of An Adventure City 3</td>\n",
       "    </tr>\n",
       "    <tr>\n",
       "        <td>ournews@yahoo.ca</td>\n",
       "        <td>Gone with the wind</td>\n",
       "    </tr>\n",
       "    <tr>\n",
       "        <td>dbindel@verizon.net</td>\n",
       "        <td>Home Alone 1</td>\n",
       "    </tr>\n",
       "    <tr>\n",
       "        <td>hllam@optonline.net</td>\n",
       "        <td>Hexagonals</td>\n",
       "    </tr>\n",
       "    <tr>\n",
       "        <td>rsteiner@optonline.net</td>\n",
       "        <td>Man and Machine</td>\n",
       "    </tr>\n",
       "    <tr>\n",
       "        <td>mgreen@sbcglobal.net</td>\n",
       "        <td>Writing Essays</td>\n",
       "    </tr>\n",
       "    <tr>\n",
       "        <td>hoangle@gmail.com</td>\n",
       "        <td>Meet and Greet with Library Personnel</td>\n",
       "    </tr>\n",
       "    <tr>\n",
       "        <td>psichel@me.com</td>\n",
       "        <td>Community meet</td>\n",
       "    </tr>\n",
       "</table>"
      ],
      "text/plain": [
       "[('daveed@me.com', 'Book review of Amazing Amy'),\n",
       " ('bwcarty@yahoo.ca', 'Book review of Happy Housecat'),\n",
       " ('lstaf@mac.com', 'Book review of An Adventure City 3'),\n",
       " ('ournews@yahoo.ca', 'Gone with the wind'),\n",
       " ('dbindel@verizon.net', 'Home Alone 1'),\n",
       " ('hllam@optonline.net', 'Hexagonals'),\n",
       " ('rsteiner@optonline.net', 'Man and Machine'),\n",
       " ('mgreen@sbcglobal.net', 'Writing Essays'),\n",
       " ('hoangle@gmail.com', 'Meet and Greet with Library Personnel'),\n",
       " ('psichel@me.com', 'Community meet')]"
      ]
     },
     "execution_count": 52,
     "metadata": {},
     "output_type": "execute_result"
    }
   ],
   "source": [
    "%%sql \n",
    "\n",
    "SELECT * FROM Event_by_Organizer ;"
   ]
  },
  {
   "cell_type": "code",
   "execution_count": null,
   "metadata": {},
   "outputs": [],
   "source": []
  }
 ],
 "metadata": {
  "colab": {
   "collapsed_sections": [],
   "name": "SQLSchema&PopulateTable.ipynb",
   "provenance": []
  },
  "kernelspec": {
   "display_name": "Python 3",
   "language": "python",
   "name": "python3"
  },
  "language_info": {
   "codemirror_mode": {
    "name": "ipython",
    "version": 3
   },
   "file_extension": ".py",
   "mimetype": "text/x-python",
   "name": "python",
   "nbconvert_exporter": "python",
   "pygments_lexer": "ipython3",
   "version": "3.7.4"
  }
 },
 "nbformat": 4,
 "nbformat_minor": 1
}
